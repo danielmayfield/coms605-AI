{
  "nbformat": 4,
  "nbformat_minor": 0,
  "metadata": {
    "colab": {
      "provenance": [],
      "include_colab_link": true
    },
    "kernelspec": {
      "name": "python3",
      "display_name": "Python 3"
    },
    "language_info": {
      "name": "python"
    }
  },
  "cells": [
    {
      "cell_type": "markdown",
      "metadata": {
        "id": "view-in-github",
        "colab_type": "text"
      },
      "source": [
        "<a href=\"https://colab.research.google.com/github/danielmayfield/coms605-AI/blob/main/Week_1_COMS605_AI_Task.ipynb\" target=\"_parent\"><img src=\"https://colab.research.google.com/assets/colab-badge.svg\" alt=\"Open In Colab\"/></a>"
      ]
    },
    {
      "cell_type": "markdown",
      "source": [
        "### Exercise: Sales Data Analysis\n",
        "\n",
        "**Background**: You are a data analyst at a retail company. The company has provided you with monthly sales data for different products over a year. Your task is to analyze this data to gain insights into sales trends and provide recommendations.\n",
        "\n",
        "\n"
      ],
      "metadata": {
        "id": "s9zsaFcONydN"
      }
    },
    {
      "cell_type": "markdown",
      "source": [
        "**Data**:\n"
      ],
      "metadata": {
        "id": "ieJLBlkBN22l"
      }
    },
    {
      "cell_type": "code",
      "source": [
        "sales_data = {\n",
        "    'January': {'laptop': 100, 'phone': 150, 'tablet': 80},\n",
        "    'February': {'laptop': 110, 'phone': 140, 'tablet': 75},\n",
        "    'March': {'laptop': 105, 'phone': 155, 'tablet': 85},\n",
        "    'April': {'laptop': 120, 'phone': 160, 'tablet': 82},\n",
        "    'May': {'laptop': 115, 'phone': 165, 'tablet': 87},\n",
        "    'June': {'laptop': 112, 'phone': 170, 'tablet': 90},\n",
        "    'July': {'laptop': 125, 'phone': 175, 'tablet': 88},\n",
        "    'August': {'laptop': 130, 'phone': 180, 'tablet': 89},\n",
        "    'September': {'laptop': 128, 'phone': 185, 'tablet': 91},\n",
        "    'October': {'laptop': 135, 'phone': 190, 'tablet': 92},\n",
        "    'November': {'laptop': 140, 'phone': 195, 'tablet': 94},\n",
        "    'December': {'laptop': 145, 'phone': 200, 'tablet': 95},\n",
        "}\n"
      ],
      "metadata": {
        "id": "bhIb6mrjN5AH"
      },
      "execution_count": null,
      "outputs": []
    },
    {
      "cell_type": "markdown",
      "source": [
        "**Tasks**:\n",
        "\n",
        "1. **Monthly Sales**:\n",
        "   - Calculate the total sales for each month.\n",
        "   - Identify the month with the highest sales and the month with the lowest sales.\n",
        "\n",
        "2. **Product Sales**:\n",
        "   - Calculate the total sales for each product over the year.\n",
        "   - Identify the most popular product (highest sales) and the least popular product (lowest sales).\n",
        "\n",
        "3. **Sales Growth**:\n",
        "   - For each product, calculate the month-over-month sales growth rate. (Growth rate for a month = `(Sales of current month - Sales of previous month) / Sales of previous month`).\n",
        "   - Identify the product with the highest average monthly growth rate.\n",
        "\n",
        "4. **Recommendation**:\n",
        "   - Based on the analysis, provide recommendations to the marketing team. For instance, if a product has declining sales, it might need more marketing efforts.\n",
        "\n",
        "**Hints**:\n",
        "- Use dictionaries to store intermediate results.\n",
        "- Use loops to iterate over the data."
      ],
      "metadata": {
        "id": "sQESqOJLN4im"
      }
    },
    {
      "cell_type": "markdown",
      "source": [
        "## Task 1"
      ],
      "metadata": {
        "id": "3nE50P4yx47V"
      }
    },
    {
      "cell_type": "code",
      "source": [
        "# Task 1\n",
        "def calTotalSalesMonth(data):\n",
        "  # calculate total sales for each month and return a dict in format {month : total sales}\n",
        "  monthTotals = {}\n",
        "  for month in data:\n",
        "    total = 0\n",
        "    for product in data[month]:\n",
        "      total += data[month][product]\n",
        "    monthTotals[month] = total\n",
        "\n",
        "  return monthTotals\n",
        "\n",
        "def highestSales(data):\n",
        "  # gets the month with the highest sales using the dict created from calTotalSalesMonth\n",
        "  highestMonth = ''\n",
        "  highest = 0\n",
        "\n",
        "  for month in data:\n",
        "    if data[month] > highest:\n",
        "      highestMonth = month\n",
        "      highest = data[month]\n",
        "\n",
        "  return highestMonth\n",
        "\n",
        "def lowestSales(data):\n",
        "  # gets the month with the lowest sales using the dict created from calTotalSalesMonth\n",
        "  lowestMonth = ''\n",
        "  lowest = None\n",
        "\n",
        "  for month in data:\n",
        "    if lowest == None:\n",
        "      lowestMonth = month\n",
        "      lowest = data[month]\n",
        "\n",
        "    elif data[month] < lowest:\n",
        "      lowestMonth = month\n",
        "      lowest = data[month]\n",
        "\n",
        "  return lowestMonth\n",
        "\n",
        "calTotalSalesMonth(sales_data)"
      ],
      "metadata": {
        "colab": {
          "base_uri": "https://localhost:8080/"
        },
        "id": "C120VVMC8A_p",
        "outputId": "8a7f6608-b898-414f-d2d3-32fe6f8bad3d"
      },
      "execution_count": null,
      "outputs": [
        {
          "output_type": "execute_result",
          "data": {
            "text/plain": [
              "{'January': 330,\n",
              " 'February': 325,\n",
              " 'March': 345,\n",
              " 'April': 362,\n",
              " 'May': 367,\n",
              " 'June': 372,\n",
              " 'July': 388,\n",
              " 'August': 399,\n",
              " 'September': 404,\n",
              " 'October': 417,\n",
              " 'November': 429,\n",
              " 'December': 440}"
            ]
          },
          "metadata": {},
          "execution_count": 9
        }
      ]
    },
    {
      "cell_type": "code",
      "source": [
        "data = calTotalSalesMonth(sales_data)\n",
        "highestSales(data)"
      ],
      "metadata": {
        "colab": {
          "base_uri": "https://localhost:8080/",
          "height": 36
        },
        "id": "1C76psLMxYfh",
        "outputId": "d5f1193b-dd0a-46c2-8876-87279af6aa2c"
      },
      "execution_count": null,
      "outputs": [
        {
          "output_type": "execute_result",
          "data": {
            "text/plain": [
              "'December'"
            ],
            "application/vnd.google.colaboratory.intrinsic+json": {
              "type": "string"
            }
          },
          "metadata": {},
          "execution_count": 10
        }
      ]
    },
    {
      "cell_type": "code",
      "source": [
        "lowestSales(data)"
      ],
      "metadata": {
        "colab": {
          "base_uri": "https://localhost:8080/",
          "height": 36
        },
        "id": "ikowxrBhxbTS",
        "outputId": "4c6a6801-1251-4555-9d60-9303500302ae"
      },
      "execution_count": null,
      "outputs": [
        {
          "output_type": "execute_result",
          "data": {
            "text/plain": [
              "'February'"
            ],
            "application/vnd.google.colaboratory.intrinsic+json": {
              "type": "string"
            }
          },
          "metadata": {},
          "execution_count": 11
        }
      ]
    },
    {
      "cell_type": "markdown",
      "source": [
        "## Task 2"
      ],
      "metadata": {
        "id": "4TZcRCmSx9Us"
      }
    },
    {
      "cell_type": "code",
      "source": [
        "# Task 2\n"
      ],
      "metadata": {
        "id": "wd6zyLu7_Vki"
      },
      "execution_count": null,
      "outputs": []
    }
  ]
}
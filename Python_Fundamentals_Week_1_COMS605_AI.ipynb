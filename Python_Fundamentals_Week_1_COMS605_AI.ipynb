{
  "cells": [
    {
      "cell_type": "markdown",
      "metadata": {
        "id": "view-in-github",
        "colab_type": "text"
      },
      "source": [
        "<a href=\"https://colab.research.google.com/github/danielmayfield/coms605-AI/blob/main/Python_Fundamentals_Week_1_COMS605_AI.ipynb\" target=\"_parent\"><img src=\"https://colab.research.google.com/assets/colab-badge.svg\" alt=\"Open In Colab\"/></a>"
      ]
    },
    {
      "cell_type": "markdown",
      "metadata": {
        "id": "SrnCx2Svt_9E"
      },
      "source": [
        "# Python Fundamentals"
      ]
    },
    {
      "cell_type": "markdown",
      "metadata": {
        "id": "0txOJmmzaaM3"
      },
      "source": [
        "In this colab sheet we will quickly overview the fundamentals of Python.  "
      ]
    },
    {
      "cell_type": "markdown",
      "metadata": {
        "id": "hQod-fkJt_9j"
      },
      "source": [
        "## Language Semantics"
      ]
    },
    {
      "cell_type": "markdown",
      "metadata": {
        "id": "PvxKt58gt_9j"
      },
      "source": [
        "### Indentation, not braces\n",
        "\n",
        "Some programming languages use braces but instead Python uses indentation to delimit blocks of code. For example,"
      ]
    },
    {
      "cell_type": "markdown",
      "metadata": {
        "id": "fAN5aQt2t_9k"
      },
      "source": [
        "\n",
        "for x in array:\n",
        "    if x < pivot:\n",
        "        less.append(x)\n",
        "    else:\n",
        "        greater.append(x)"
      ]
    },
    {
      "cell_type": "code",
      "execution_count": null,
      "metadata": {
        "colab": {
          "base_uri": "https://localhost:8080/"
        },
        "id": "-xuAcfn9zlS5",
        "outputId": "e85ffe8b-7bcb-4813-e506-c45a40d73f6b"
      },
      "outputs": [
        {
          "name": "stdout",
          "output_type": "stream",
          "text": [
            "The number is 1\n",
            "The number is 2 which is not 1\n",
            "The number is 3 which is not 1\n",
            "The number is 4 which is not 1\n"
          ]
        }
      ],
      "source": [
        "for x in [1,2,3,4]:\n",
        "  if x < 2:\n",
        "    print('The number is 1')\n",
        "  else:\n",
        "    print('The number is %d which is not 1' %x)"
      ]
    },
    {
      "cell_type": "markdown",
      "metadata": {
        "id": "kV58X-HO0DPQ"
      },
      "source": [
        "The indentation makes Python code easy to read but it does mean you need to be careful with formatting.\n",
        "\n",
        "Also can often mean error occur when you simply copying and paste."
      ]
    },
    {
      "cell_type": "markdown",
      "metadata": {
        "id": "oCzp3Cru0i7n"
      },
      "source": [
        "Below is the same example but when the spacing is slightly off so there will be an error when compiled."
      ]
    },
    {
      "cell_type": "code",
      "execution_count": null,
      "metadata": {
        "colab": {
          "base_uri": "https://localhost:8080/"
        },
        "id": "aKtTze-j0iC6",
        "outputId": "e9f4d5a1-a85a-4c55-e1dc-0235fc57d9ee"
      },
      "outputs": [
        {
          "name": "stdout",
          "output_type": "stream",
          "text": [
            "The number is 1\n",
            "The number is 4 which is not 1\n"
          ]
        }
      ],
      "source": [
        "for x in [1,2,3,4]:\n",
        "  if x < 2:\n",
        "    print('The number is 1')\n",
        "\n",
        "\n",
        "\n",
        "else:\n",
        "    print('The number is %d which is not 1' %x)"
      ]
    },
    {
      "cell_type": "markdown",
      "metadata": {
        "id": "Wfo1Qdalt_9m"
      },
      "source": [
        "#### Comments"
      ]
    },
    {
      "cell_type": "markdown",
      "metadata": {
        "id": "34Q0qnj70zWx"
      },
      "source": [
        "In order to add comments to your code you can simply use `#` at the start of the line."
      ]
    },
    {
      "cell_type": "code",
      "execution_count": null,
      "metadata": {
        "colab": {
          "base_uri": "https://localhost:8080/"
        },
        "id": "C5RSYeuU1M3R",
        "outputId": "e29d3c76-434f-49bc-9b4f-5ca7768c85ca"
      },
      "outputs": [
        {
          "name": "stdout",
          "output_type": "stream",
          "text": [
            "The number is 1\n",
            "The number is 2 which is not 1\n",
            "The number is 3 which is not 1\n",
            "The number is 4 which is not 1\n"
          ]
        }
      ],
      "source": [
        "# The code below is an example of a for-loop.\n",
        "\n",
        "''' This is a comment\n",
        "across  multiple lines\n",
        "in the code'''\n",
        "\n",
        "for x in [1,2,3,4]:\n",
        "  if x < 2:\n",
        "    print('The number is 1')   #  This line of code prints some text\n",
        "  else:\n",
        "    print('The number is %d which is not 1' %x)"
      ]
    },
    {
      "cell_type": "markdown",
      "metadata": {
        "id": "2B9G7bHi2fKC"
      },
      "source": [
        "## Modules\n",
        "\n",
        "There are lots of features in Python which require you to import modules to use."
      ]
    },
    {
      "cell_type": "markdown",
      "metadata": {
        "id": "gxCNl0lC23U7"
      },
      "source": [
        "#### Simply importing Modules"
      ]
    },
    {
      "cell_type": "markdown",
      "metadata": {
        "id": "qytBR40n3LWv"
      },
      "source": [
        "One module we will use in the module is NumPy."
      ]
    },
    {
      "cell_type": "code",
      "execution_count": null,
      "metadata": {
        "id": "uq0gty4u22TS"
      },
      "outputs": [],
      "source": [
        "import numpy"
      ]
    },
    {
      "cell_type": "markdown",
      "metadata": {
        "id": "Gz5-lRcG3WsU"
      },
      "source": [
        "Once imported all of the functionality in this package is ready to use. To access it you would need to write `numpy.name` where `name` stands for the name of the functionality you want to use from NumPy."
      ]
    },
    {
      "cell_type": "code",
      "execution_count": null,
      "metadata": {
        "colab": {
          "base_uri": "https://localhost:8080/"
        },
        "id": "7PGIUBab3WN0",
        "outputId": "0fa87cd7-b4d8-49eb-adb4-8049cab2a9f3"
      },
      "outputs": [
        {
          "data": {
            "text/plain": [
              "2"
            ]
          },
          "execution_count": 9,
          "metadata": {},
          "output_type": "execute_result"
        }
      ],
      "source": [
        "numpy.absolute(-2)"
      ]
    },
    {
      "cell_type": "code",
      "execution_count": null,
      "metadata": {
        "id": "wGZj2BK1FAr4"
      },
      "outputs": [],
      "source": [
        "numpy.flip?"
      ]
    },
    {
      "cell_type": "code",
      "execution_count": null,
      "metadata": {
        "id": "gY8tTR3cE0Sh"
      },
      "outputs": [],
      "source": [
        "numpy.absolute?"
      ]
    },
    {
      "cell_type": "markdown",
      "metadata": {
        "id": "BZGvM4UM4DpY"
      },
      "source": [
        "#### Importing with name"
      ]
    },
    {
      "cell_type": "markdown",
      "metadata": {
        "id": "_61iCGW23_-K"
      },
      "source": [
        "The above is fine unless you already had some object called `numpy` in your code as it would be lost to this new object with the same name.\n",
        "\n",
        "Often packages have standard names to import them under to help prevent this problem. For instance is common to import numpy as np i.e."
      ]
    },
    {
      "cell_type": "code",
      "execution_count": null,
      "metadata": {
        "colab": {
          "base_uri": "https://localhost:8080/"
        },
        "id": "vsg4CeXJ3T1k",
        "outputId": "17d5fd1a-d60d-40c4-8c48-e93e01142aa7"
      },
      "outputs": [
        {
          "data": {
            "text/plain": [
              "2"
            ]
          },
          "execution_count": 12,
          "metadata": {},
          "output_type": "execute_result"
        }
      ],
      "source": [
        "import numpy as np\n",
        "\n",
        "np.absolute(-2)"
      ]
    },
    {
      "cell_type": "markdown",
      "metadata": {
        "id": "GTNc6S_R4w0s"
      },
      "source": [
        "#### Importing certian functionality from module"
      ]
    },
    {
      "cell_type": "code",
      "execution_count": null,
      "metadata": {
        "id": "eWgROIJ044IG"
      },
      "outputs": [],
      "source": [
        "from scipy import stats as stats_package"
      ]
    },
    {
      "cell_type": "markdown",
      "metadata": {
        "id": "yf8nE25C5Vo3"
      },
      "source": [
        "So instead of importing all of the scipy module we have only imported what comes under stats module within."
      ]
    },
    {
      "cell_type": "code",
      "execution_count": null,
      "metadata": {
        "id": "7Xs93Gtr5mDn"
      },
      "outputs": [],
      "source": [
        "from numpy import absolute"
      ]
    },
    {
      "cell_type": "code",
      "execution_count": null,
      "metadata": {
        "colab": {
          "base_uri": "https://localhost:8080/",
          "height": 34
        },
        "id": "3lqgZaT15p5C",
        "outputId": "8314ed26-0331-45d9-f6be-ffe4e7c1a392"
      },
      "outputs": [
        {
          "data": {
            "text/plain": [
              "2"
            ]
          },
          "execution_count": 58,
          "metadata": {
            "tags": []
          },
          "output_type": "execute_result"
        }
      ],
      "source": [
        "absolute(-2)"
      ]
    },
    {
      "cell_type": "markdown",
      "metadata": {
        "id": "PLkBUEttt_9n"
      },
      "source": [
        "## Function\n",
        "\n",
        "Functions allow us to define ways for Python to take zero or more inputs and do some operations to give an output.\n",
        "\n"
      ]
    },
    {
      "cell_type": "code",
      "execution_count": null,
      "metadata": {
        "id": "IiZAe-ah6Td-"
      },
      "outputs": [],
      "source": [
        "def square(x):\n",
        "  #  We assume the input x is numerical.\n",
        "  #  This function will take an input an square it if possible.\n",
        "  # Otherwise there will be an error.\n",
        "\n",
        "  return x**2"
      ]
    },
    {
      "cell_type": "code",
      "execution_count": null,
      "metadata": {
        "colab": {
          "base_uri": "https://localhost:8080/"
        },
        "id": "E-LwwPVq6tJu",
        "outputId": "332aed7a-7364-4cdf-f6e8-c50d5f4e0794"
      },
      "outputs": [
        {
          "data": {
            "text/plain": [
              "4"
            ]
          },
          "execution_count": 14,
          "metadata": {},
          "output_type": "execute_result"
        }
      ],
      "source": [
        "square(-2)"
      ]
    },
    {
      "cell_type": "code",
      "execution_count": null,
      "metadata": {
        "colab": {
          "base_uri": "https://localhost:8080/"
        },
        "id": "OoXszYx4Gkwr",
        "outputId": "7a1cdeb9-5e52-4d33-bd56-0f492d5e831b"
      },
      "outputs": [
        {
          "data": {
            "text/plain": [
              "36"
            ]
          },
          "execution_count": 15,
          "metadata": {},
          "output_type": "execute_result"
        }
      ],
      "source": [
        "square(6)"
      ]
    },
    {
      "cell_type": "code",
      "execution_count": null,
      "metadata": {
        "colab": {
          "base_uri": "https://localhost:8080/",
          "height": 249
        },
        "id": "ayINhHRZ6xzW",
        "outputId": "3780ee68-c29e-4f3b-f668-daf78a9ccf2d"
      },
      "outputs": [
        {
          "ename": "TypeError",
          "evalue": "ignored",
          "output_type": "error",
          "traceback": [
            "\u001b[0;31m---------------------------------------------------------------------------\u001b[0m",
            "\u001b[0;31mTypeError\u001b[0m                                 Traceback (most recent call last)",
            "\u001b[0;32m<ipython-input-11-78e3c4bea181>\u001b[0m in \u001b[0;36m<module>\u001b[0;34m()\u001b[0m\n\u001b[0;32m----> 1\u001b[0;31m \u001b[0msquare\u001b[0m\u001b[0;34m(\u001b[0m\u001b[0;34m'Hi'\u001b[0m\u001b[0;34m)\u001b[0m\u001b[0;34m\u001b[0m\u001b[0;34m\u001b[0m\u001b[0m\n\u001b[0m",
            "\u001b[0;32m<ipython-input-8-62a71dde7897>\u001b[0m in \u001b[0;36msquare\u001b[0;34m(x)\u001b[0m\n\u001b[1;32m      3\u001b[0m   \u001b[0;31m# Otherwise there will be an error.\u001b[0m\u001b[0;34m\u001b[0m\u001b[0;34m\u001b[0m\u001b[0;34m\u001b[0m\u001b[0m\n\u001b[1;32m      4\u001b[0m \u001b[0;34m\u001b[0m\u001b[0m\n\u001b[0;32m----> 5\u001b[0;31m   \u001b[0;32mreturn\u001b[0m \u001b[0mx\u001b[0m\u001b[0;34m**\u001b[0m\u001b[0;36m2\u001b[0m\u001b[0;34m\u001b[0m\u001b[0;34m\u001b[0m\u001b[0m\n\u001b[0m",
            "\u001b[0;31mTypeError\u001b[0m: unsupported operand type(s) for ** or pow(): 'str' and 'int'"
          ]
        }
      ],
      "source": [
        "square('Hi')"
      ]
    },
    {
      "cell_type": "markdown",
      "metadata": {
        "id": "BY4qEtUDy1HZ"
      },
      "source": [
        "### Task:\n",
        "\n",
        "Create a function which cubes an input."
      ]
    },
    {
      "cell_type": "code",
      "execution_count": null,
      "metadata": {
        "colab": {
          "base_uri": "https://localhost:8080/"
        },
        "id": "BjTZA8rtc7Bi",
        "outputId": "6a8a3464-f040-4fef-b838-9a0b2196d33d"
      },
      "outputs": [
        {
          "data": {
            "text/plain": [
              "8"
            ]
          },
          "execution_count": 6,
          "metadata": {},
          "output_type": "execute_result"
        }
      ],
      "source": [
        "def cube(x):\n",
        "  return x**3\n",
        "\n",
        "cube(2)"
      ]
    },
    {
      "cell_type": "code",
      "execution_count": null,
      "metadata": {
        "colab": {
          "base_uri": "https://localhost:8080/"
        },
        "id": "TQt77tgnre5F",
        "outputId": "e8db3fb3-456c-4900-e73b-59ee533957e0"
      },
      "outputs": [
        {
          "data": {
            "text/plain": [
              "8"
            ]
          },
          "execution_count": 7,
          "metadata": {},
          "output_type": "execute_result"
        }
      ],
      "source": [
        "cube(2)"
      ]
    },
    {
      "cell_type": "markdown",
      "metadata": {
        "id": "HBukwrfmfiwl"
      },
      "source": [
        "#### Solution"
      ]
    },
    {
      "cell_type": "code",
      "execution_count": null,
      "metadata": {
        "id": "OhHagt-vHLQb"
      },
      "outputs": [],
      "source": [
        "def cubes(x):\n",
        "\n",
        "  return x**3"
      ]
    },
    {
      "cell_type": "code",
      "execution_count": null,
      "metadata": {
        "colab": {
          "base_uri": "https://localhost:8080/"
        },
        "id": "vvRONAbGfnha",
        "outputId": "e2c26d10-6dfa-4341-871f-1f3f1e66b5df"
      },
      "outputs": [
        {
          "data": {
            "text/plain": [
              "8"
            ]
          },
          "execution_count": 8,
          "metadata": {},
          "output_type": "execute_result"
        }
      ],
      "source": [
        "cube(2)"
      ]
    },
    {
      "cell_type": "markdown",
      "metadata": {
        "id": "L2h1kZZ07R5n"
      },
      "source": [
        "### Storing functions as variables\n",
        "\n",
        "Functions once defined can be stored in variables"
      ]
    },
    {
      "cell_type": "code",
      "execution_count": null,
      "metadata": {
        "colab": {
          "base_uri": "https://localhost:8080/"
        },
        "id": "6oLUzFMu7X7l",
        "outputId": "bf2dd8cf-7442-443c-98e3-6ee72b3a329c"
      },
      "outputs": [
        {
          "data": {
            "text/plain": [
              "4"
            ]
          },
          "execution_count": 19,
          "metadata": {},
          "output_type": "execute_result"
        }
      ],
      "source": [
        "x = square\n",
        "\n",
        "x(-2)"
      ]
    },
    {
      "cell_type": "code",
      "execution_count": null,
      "metadata": {
        "colab": {
          "base_uri": "https://localhost:8080/"
        },
        "id": "MBj2-InMJaRA",
        "outputId": "f19057f4-4abf-49db-cf86-9eb947db37e0"
      },
      "outputs": [
        {
          "data": {
            "text/plain": [
              "25"
            ]
          },
          "execution_count": 20,
          "metadata": {},
          "output_type": "execute_result"
        }
      ],
      "source": [
        "x(5)"
      ]
    },
    {
      "cell_type": "markdown",
      "metadata": {
        "id": "ylxatjY97K7B"
      },
      "source": [
        "### Functions as input"
      ]
    },
    {
      "cell_type": "markdown",
      "metadata": {
        "id": "irDwS_Q17GnH"
      },
      "source": [
        "Functions can also be given as input to other functions\n",
        "\n",
        "\n"
      ]
    },
    {
      "cell_type": "code",
      "execution_count": null,
      "metadata": {
        "id": "X792gXri7F8k"
      },
      "outputs": [],
      "source": [
        "def FunctionAtTwo(f):\n",
        "\n",
        "  return f(2)"
      ]
    },
    {
      "cell_type": "code",
      "execution_count": null,
      "metadata": {
        "colab": {
          "base_uri": "https://localhost:8080/"
        },
        "id": "k5SVO4TM65Vw",
        "outputId": "fd4c85bc-c993-4443-c82a-9956199240d8"
      },
      "outputs": [
        {
          "data": {
            "text/plain": [
              "4"
            ]
          },
          "execution_count": 22,
          "metadata": {},
          "output_type": "execute_result"
        }
      ],
      "source": [
        "FunctionAtTwo(square)"
      ]
    },
    {
      "cell_type": "code",
      "execution_count": null,
      "metadata": {
        "colab": {
          "base_uri": "https://localhost:8080/"
        },
        "id": "DD3N8e7eIc-r",
        "outputId": "0e939f4d-92a6-4062-90e4-1b8db751bbec"
      },
      "outputs": [
        {
          "data": {
            "text/plain": [
              "8"
            ]
          },
          "execution_count": 23,
          "metadata": {},
          "output_type": "execute_result"
        }
      ],
      "source": [
        "FunctionAtTwo(cubes)"
      ]
    },
    {
      "cell_type": "markdown",
      "metadata": {
        "id": "WuCnHtnaAX_t"
      },
      "source": [
        "We can also use functions inside other functions"
      ]
    },
    {
      "cell_type": "code",
      "execution_count": null,
      "metadata": {
        "colab": {
          "base_uri": "https://localhost:8080/",
          "height": 35
        },
        "id": "XySbNGbGAdYA",
        "outputId": "324c9d72-eb5e-4aa0-80ae-ed86f28932bf"
      },
      "outputs": [
        {
          "data": {
            "text/plain": [
              "25"
            ]
          },
          "execution_count": 32,
          "metadata": {
            "tags": []
          },
          "output_type": "execute_result"
        }
      ],
      "source": [
        "def SquaredHypotenus(x,y):\n",
        "  return square(x) + square(y)\n",
        "\n",
        "SquaredHypotenus(3,4)"
      ]
    },
    {
      "cell_type": "markdown",
      "metadata": {
        "id": "yhADlD3HAtmA"
      },
      "source": [
        "#### Default Values\n",
        "\n",
        "Sometimes it is helpful to give default vaules in functions"
      ]
    },
    {
      "cell_type": "code",
      "execution_count": null,
      "metadata": {
        "colab": {
          "base_uri": "https://localhost:8080/"
        },
        "id": "cyvnAZr_Ar9g",
        "outputId": "3e2a3beb-9850-42d2-85c2-9e34f4df1aba"
      },
      "outputs": [
        {
          "name": "stdout",
          "output_type": "stream",
          "text": [
            "Hello to you\n"
          ]
        }
      ],
      "source": [
        "def DefaultValue(x='Hello', y = ''):\n",
        "  print(x+y)\n",
        "\n",
        "DefaultValue(y=' to you')"
      ]
    },
    {
      "cell_type": "code",
      "execution_count": null,
      "metadata": {
        "colab": {
          "base_uri": "https://localhost:8080/"
        },
        "id": "jf10iW49KVpO",
        "outputId": "e5a0521e-266b-4efe-8520-dd31d0ca5d4f"
      },
      "outputs": [
        {
          "name": "stdout",
          "output_type": "stream",
          "text": [
            "NO to you\n"
          ]
        }
      ],
      "source": [
        "DefaultValue(x='NO',y=' to you')"
      ]
    },
    {
      "cell_type": "code",
      "execution_count": null,
      "metadata": {
        "colab": {
          "base_uri": "https://localhost:8080/"
        },
        "id": "iMt3ZCu8KnbS",
        "outputId": "f700da2c-7957-40de-cd15-f8cc23646c6e"
      },
      "outputs": [
        {
          "name": "stdout",
          "output_type": "stream",
          "text": [
            "Hello everyone\n"
          ]
        }
      ],
      "source": [
        "DefaultValue(y = ' everyone')"
      ]
    },
    {
      "cell_type": "code",
      "execution_count": null,
      "metadata": {
        "colab": {
          "base_uri": "https://localhost:8080/"
        },
        "id": "R55NKliDI4-y",
        "outputId": "30501e3e-a66f-4f7b-8cf2-bca4c462b870"
      },
      "outputs": [
        {
          "name": "stdout",
          "output_type": "stream",
          "text": [
            "This will fail\n"
          ]
        }
      ],
      "source": [
        "DefaultValue(x='This will fail')"
      ]
    },
    {
      "cell_type": "markdown",
      "metadata": {
        "id": "JYYsXWEBKFOc"
      },
      "source": [
        "**NON-DEFAULT VALUES MOST COME FIRST**"
      ]
    },
    {
      "cell_type": "code",
      "execution_count": null,
      "metadata": {
        "id": "sAsUSzPdJegn"
      },
      "outputs": [],
      "source": [
        "def Test_Function(x,y=2):\n",
        "  return x+y"
      ]
    },
    {
      "cell_type": "code",
      "execution_count": null,
      "metadata": {
        "colab": {
          "base_uri": "https://localhost:8080/"
        },
        "id": "dOHqWyeqJm-1",
        "outputId": "2ff3b1b4-0bb6-4138-b82a-ad07ace4fe0e"
      },
      "outputs": [
        {
          "data": {
            "text/plain": [
              "11"
            ]
          },
          "execution_count": 38,
          "metadata": {},
          "output_type": "execute_result"
        }
      ],
      "source": [
        "Test_Function(4,7)"
      ]
    },
    {
      "cell_type": "markdown",
      "metadata": {
        "id": "1_cMIMSgBanM"
      },
      "source": [
        "### Lambda Functions"
      ]
    },
    {
      "cell_type": "markdown",
      "metadata": {
        "id": "G9puhbbxBe-S"
      },
      "source": [
        "Lambda functions are easy ways to create short anonymous functions."
      ]
    },
    {
      "cell_type": "code",
      "execution_count": null,
      "metadata": {
        "colab": {
          "base_uri": "https://localhost:8080/"
        },
        "id": "ShjUx72CBsdq",
        "outputId": "ac8c5341-5432-4a23-8d65-2a464ba24277"
      },
      "outputs": [
        {
          "data": {
            "text/plain": [
              "32"
            ]
          },
          "execution_count": 39,
          "metadata": {},
          "output_type": "execute_result"
        }
      ],
      "source": [
        "FunctionAtTwo(lambda x: x**5)"
      ]
    },
    {
      "cell_type": "markdown",
      "metadata": {
        "id": "8hXLmStDL0dO"
      },
      "source": [
        "### Exercises"
      ]
    },
    {
      "cell_type": "markdown",
      "metadata": {
        "id": "jXEuMVCNL3PE"
      },
      "source": [
        "#### Task"
      ]
    },
    {
      "cell_type": "markdown",
      "metadata": {
        "id": "3069clfyL83m"
      },
      "source": [
        "Write a function that takes a string as an argument and returns a new string with all vowels removed. Test the function with different strings to ensure that it works correctly.\n"
      ]
    },
    {
      "cell_type": "code",
      "execution_count": null,
      "metadata": {
        "colab": {
          "base_uri": "https://localhost:8080/",
          "height": 36
        },
        "id": "ACwH-LlJrp6D",
        "outputId": "b76f1ab2-c5f5-47d2-abb0-c21f014f86cb"
      },
      "outputs": [
        {
          "data": {
            "application/vnd.google.colaboratory.intrinsic+json": {
              "type": "string"
            },
            "text/plain": [
              "'hll'"
            ]
          },
          "execution_count": 20,
          "metadata": {},
          "output_type": "execute_result"
        }
      ],
      "source": [
        "def removeVowels(input):\n",
        "  vowels = ['a', 'u', 'o', 'i', 'e']\n",
        "  output = ''\n",
        "  for char in input:\n",
        "    if char not in vowels:\n",
        "      output += char\n",
        "  return output\n",
        "\n",
        "removeVowels('hello')"
      ]
    },
    {
      "cell_type": "markdown",
      "metadata": {
        "id": "lov1_cg6L7HF"
      },
      "source": [
        "#### Task"
      ]
    },
    {
      "cell_type": "markdown",
      "metadata": {
        "id": "jgTSiepuL4np"
      },
      "source": [
        "Write a function that takes a string as an argument and returns the number of vowels in the string. Test the function with different strings to ensure that it works correctly.\n"
      ]
    },
    {
      "cell_type": "code",
      "execution_count": null,
      "metadata": {
        "colab": {
          "base_uri": "https://localhost:8080/"
        },
        "id": "yNmyy8aqMFB9",
        "outputId": "4d249b26-15a9-4fe4-9e6e-2d2a9b628025"
      },
      "outputs": [
        {
          "data": {
            "text/plain": [
              "2"
            ]
          },
          "execution_count": 19,
          "metadata": {},
          "output_type": "execute_result"
        }
      ],
      "source": [
        "def numberVowels(input):\n",
        "  vowels = ['a', 'u', 'o', 'i', 'e']\n",
        "  numVowels = 0\n",
        "  for char in input:\n",
        "    if char in vowels:\n",
        "      numVowels += 1\n",
        "  return numVowels\n",
        "\n",
        "numberVowels('hello')"
      ]
    },
    {
      "cell_type": "markdown",
      "metadata": {
        "id": "znYqCab8MFjk"
      },
      "source": [
        "#### Task"
      ]
    },
    {
      "cell_type": "markdown",
      "metadata": {
        "id": "iawUiVeGMG6Y"
      },
      "source": [
        "Write a function that takes a list of strings as an argument and returns a new list with all strings that start with a vowel removed. Test the function with different lists to ensure that it works correctly."
      ]
    },
    {
      "cell_type": "code",
      "execution_count": null,
      "metadata": {
        "colab": {
          "base_uri": "https://localhost:8080/"
        },
        "id": "YJFKsOfpMHpT",
        "outputId": "687692a6-19ae-4fb3-e000-fc212c4a88a9"
      },
      "outputs": [
        {
          "data": {
            "text/plain": [
              "['hello', 'world', 'velocity']"
            ]
          },
          "execution_count": 22,
          "metadata": {},
          "output_type": "execute_result"
        }
      ],
      "source": [
        "def removeVowelsStartWords(input):\n",
        "  vowels = ['a', 'u', 'o', 'i', 'e']\n",
        "  outputList = []\n",
        "  for word in input:\n",
        "    if word[0] not in vowels:\n",
        "      outputList.append(word)\n",
        "  return outputList\n",
        "\n",
        "testList = ['hello', 'world', 'eat', 'velocity']\n",
        "removeVowelsStartWords(testList)"
      ]
    },
    {
      "cell_type": "markdown",
      "metadata": {
        "id": "WHP-WXTFJ62K"
      },
      "source": [
        "#### Task"
      ]
    },
    {
      "cell_type": "markdown",
      "metadata": {
        "id": "KS6qeJkhJ4uT"
      },
      "source": [
        "Import the `math` package and use the `sqrt()` function to calculate the square root of 25. Print the result.\n"
      ]
    },
    {
      "cell_type": "code",
      "execution_count": null,
      "metadata": {
        "colab": {
          "base_uri": "https://localhost:8080/"
        },
        "id": "mQJhUrxvJ705",
        "outputId": "48a095c3-efc4-4360-e5cc-db0fa08e27b1"
      },
      "outputs": [
        {
          "data": {
            "text/plain": [
              "5.0"
            ]
          },
          "execution_count": 23,
          "metadata": {},
          "output_type": "execute_result"
        }
      ],
      "source": [
        "from math import sqrt\n",
        "\n",
        "def root(input):\n",
        "  return sqrt(input)\n",
        "\n",
        "root(25)"
      ]
    },
    {
      "cell_type": "markdown",
      "metadata": {
        "id": "yLc7XIanKCRL"
      },
      "source": [
        "#### Task"
      ]
    },
    {
      "cell_type": "markdown",
      "metadata": {
        "id": "vVfujBwgKBe-"
      },
      "source": [
        "Import the `random` package and use the `randint()` function to generate a random integer between 1 and 10. Print the result.\n"
      ]
    },
    {
      "cell_type": "code",
      "execution_count": null,
      "metadata": {
        "colab": {
          "base_uri": "https://localhost:8080/"
        },
        "id": "maKgqmIkuX-4",
        "outputId": "c161b8c5-75e4-4dea-8e94-69139e4eed31"
      },
      "outputs": [
        {
          "data": {
            "text/plain": [
              "3"
            ]
          },
          "execution_count": 28,
          "metadata": {},
          "output_type": "execute_result"
        }
      ],
      "source": [
        "from random import randint\n",
        "\n",
        "def randomNum():\n",
        "  return randint(1, 10)\n",
        "\n",
        "randomNum()"
      ]
    },
    {
      "cell_type": "markdown",
      "metadata": {
        "id": "rv6BLD0aKIvx"
      },
      "source": [
        "#### Task"
      ]
    },
    {
      "cell_type": "markdown",
      "metadata": {
        "id": "jti_9YpSKIOT"
      },
      "source": [
        "Write a function that takes a list of numbers as an argument and returns the average of the numbers. Use the `mean()` function from the `statistics` package to calculate the average. Test the function with different lists to ensure that it works correctly."
      ]
    },
    {
      "cell_type": "code",
      "execution_count": null,
      "metadata": {
        "colab": {
          "base_uri": "https://localhost:8080/"
        },
        "id": "eOU_5_cVvJm8",
        "outputId": "2aa328e0-eb7c-463a-855f-7fd6feb0cec3"
      },
      "outputs": [
        {
          "data": {
            "text/plain": [
              "12516.125"
            ]
          },
          "execution_count": 29,
          "metadata": {},
          "output_type": "execute_result"
        }
      ],
      "source": [
        "from statistics import mean\n",
        "\n",
        "def meanCal(input):\n",
        "  return mean(input)\n",
        "\n",
        "data = [1, 2, 4, 5, 7, 10, 100, 100000]\n",
        "meanCal(data)"
      ]
    },
    {
      "cell_type": "markdown",
      "metadata": {
        "id": "CTknXGiUJAic"
      },
      "source": [
        "## Some Data Types"
      ]
    },
    {
      "cell_type": "markdown",
      "metadata": {
        "id": "DfCaBDMbI0Xt"
      },
      "source": [
        "### Strings\n",
        "\n",
        "Strings can be defined in multiple ways:\n",
        "\n",
        "\n"
      ]
    },
    {
      "cell_type": "code",
      "execution_count": null,
      "metadata": {
        "colab": {
          "base_uri": "https://localhost:8080/",
          "height": 35
        },
        "id": "bRwNywBdJFhr",
        "outputId": "f7883449-927c-482b-e3de-f3746c4d2f45"
      },
      "outputs": [
        {
          "data": {
            "application/vnd.google.colaboratory.intrinsic+json": {
              "type": "string"
            },
            "text/plain": [
              "'This is a string'"
            ]
          },
          "execution_count": 40,
          "metadata": {},
          "output_type": "execute_result"
        }
      ],
      "source": [
        "a = 'This is a string'\n",
        "\n",
        "a\n",
        "\n"
      ]
    },
    {
      "cell_type": "code",
      "execution_count": null,
      "metadata": {
        "colab": {
          "base_uri": "https://localhost:8080/",
          "height": 35
        },
        "id": "7B8zXtemJjCI",
        "outputId": "27e42879-d9ee-49f5-bcda-d87eb3998e11"
      },
      "outputs": [
        {
          "data": {
            "application/vnd.google.colaboratory.intrinsic+json": {
              "type": "string"
            },
            "text/plain": [
              "'This is also a string'"
            ]
          },
          "execution_count": 41,
          "metadata": {},
          "output_type": "execute_result"
        }
      ],
      "source": [
        "b = \"This is also a string\"\n",
        "\n",
        "b\n",
        "\n"
      ]
    },
    {
      "cell_type": "code",
      "execution_count": null,
      "metadata": {
        "colab": {
          "base_uri": "https://localhost:8080/",
          "height": 35
        },
        "id": "42jn1KI6Jkdr",
        "outputId": "eece8452-6418-47ad-c5fa-84f426068c62"
      },
      "outputs": [
        {
          "data": {
            "application/vnd.google.colaboratory.intrinsic+json": {
              "type": "string"
            },
            "text/plain": [
              "'This is a string\\nwhich spans across multiple\\nlines. '"
            ]
          },
          "execution_count": 42,
          "metadata": {},
          "output_type": "execute_result"
        }
      ],
      "source": [
        "c = '''This is a string\n",
        "which spans across multiple\n",
        "lines. '''\n",
        "\n",
        "c\n"
      ]
    },
    {
      "cell_type": "code",
      "execution_count": null,
      "metadata": {
        "colab": {
          "base_uri": "https://localhost:8080/",
          "height": 35
        },
        "id": "mcWJ3rkVJmFS",
        "outputId": "4592b4c5-a812-4743-a414-a77ee3f13d5b"
      },
      "outputs": [
        {
          "data": {
            "application/vnd.google.colaboratory.intrinsic+json": {
              "type": "string"
            },
            "text/plain": [
              "'32'"
            ]
          },
          "execution_count": 43,
          "metadata": {},
          "output_type": "execute_result"
        }
      ],
      "source": [
        "d = str(32)\n",
        "\n",
        "d"
      ]
    },
    {
      "cell_type": "markdown",
      "metadata": {
        "id": "u3KlSNp6Jsrb"
      },
      "source": [
        "This last method converts an object like an integer into a string."
      ]
    },
    {
      "cell_type": "markdown",
      "metadata": {
        "id": "rNW71K1tJ0vP"
      },
      "source": [
        "Strings like many objects in Python has many attributes and methods which you can access using `.`"
      ]
    },
    {
      "cell_type": "code",
      "execution_count": null,
      "metadata": {
        "colab": {
          "base_uri": "https://localhost:8080/",
          "height": 35
        },
        "id": "VSWz34fGMTWp",
        "outputId": "b89d1543-c576-4326-d25c-8566c924fde1"
      },
      "outputs": [
        {
          "data": {
            "text/plain": [
              "45"
            ]
          },
          "execution_count": 41,
          "metadata": {
            "tags": []
          },
          "output_type": "execute_result"
        }
      ],
      "source": [
        "len('How many characters are there in this string?')"
      ]
    },
    {
      "cell_type": "markdown",
      "metadata": {
        "id": "plDwrdNvMXx9"
      },
      "source": [
        "The above tells us the number of characters in the string"
      ]
    },
    {
      "cell_type": "markdown",
      "metadata": {
        "id": "AT50FsZ4zmdR"
      },
      "source": [
        "### Task\n",
        "\n",
        "Find out how to split the followig string into individual words."
      ]
    },
    {
      "cell_type": "code",
      "execution_count": null,
      "metadata": {
        "colab": {
          "base_uri": "https://localhost:8080/"
        },
        "id": "wwx-09-bz7ft",
        "outputId": "c374d4e8-e836-444f-edb4-1e5803e37488"
      },
      "outputs": [
        {
          "data": {
            "text/plain": [
              "['This', 'is', 'a', 'string', 'of', 'words']"
            ]
          },
          "execution_count": 38,
          "metadata": {},
          "output_type": "execute_result"
        }
      ],
      "source": [
        "string_of_words = '  This is a string of words    '\n",
        "\n",
        "def splitString(input):\n",
        "  input = input.strip()\n",
        "  input = input.split(sep=' ')\n",
        "  return input\n",
        "\n",
        "splitString(string_of_words)"
      ]
    },
    {
      "cell_type": "markdown",
      "metadata": {
        "id": "glH130ukcJlG"
      },
      "source": [
        "#### Solution"
      ]
    },
    {
      "cell_type": "code",
      "execution_count": null,
      "metadata": {
        "colab": {
          "base_uri": "https://localhost:8080/"
        },
        "id": "9Ddvyto8PBax",
        "outputId": "5dd593d6-4caa-43b9-ac7e-2b946477a142"
      },
      "outputs": [
        {
          "data": {
            "text/plain": [
              "['', '', 'This', 'is', 'a', 'string', 'of', 'words', '', '', '', '']"
            ]
          },
          "execution_count": 33,
          "metadata": {},
          "output_type": "execute_result"
        }
      ],
      "source": [
        "string_of_words.split(sep= ' ')"
      ]
    },
    {
      "cell_type": "markdown",
      "metadata": {
        "id": "fgS1BgCX6xQ5"
      },
      "source": [
        "### Lists"
      ]
    },
    {
      "cell_type": "markdown",
      "metadata": {
        "id": "0KwmPoWKLb00"
      },
      "source": [
        "\n",
        "\n",
        "### What are Lists?\n",
        "\n",
        "In Python, a list is a mutable, ordered collection of items. Each item can be of any data type, and lists can contain items of different data types. Lists are one of the most versatile and commonly used data structures in Python.\n",
        "\n",
        "### Syntax:\n",
        "\n",
        "The general syntax to define a list in Python is:\n",
        "\n",
        "```python\n",
        "list_name = [item1, item2, item3, ...]\n",
        "```\n",
        "\n",
        "\n",
        "\n",
        "\n",
        "\n",
        "\n"
      ]
    },
    {
      "cell_type": "markdown",
      "metadata": {
        "id": "bbh29GDP7DHv"
      },
      "source": [
        "#### Examples"
      ]
    },
    {
      "cell_type": "code",
      "execution_count": null,
      "metadata": {
        "id": "uJz14tdBLm31"
      },
      "outputs": [],
      "source": [
        "my_list = [1,2,3,4,5,6]\n",
        "\n",
        "string_list = [ 'a', 'b']\n",
        "\n",
        "function_list = [DefaultValue, cubes]\n",
        "\n",
        "mixed_list = [cubes, function_list, 2, 'My string']"
      ]
    },
    {
      "cell_type": "code",
      "execution_count": null,
      "metadata": {
        "colab": {
          "base_uri": "https://localhost:8080/"
        },
        "id": "wTulj4AqMB1g",
        "outputId": "46efb5ae-73fc-4212-a08f-89c589651bee"
      },
      "outputs": [
        {
          "data": {
            "text/plain": [
              "[1, 2, 3, 4, 5, 6]"
            ]
          },
          "execution_count": 61,
          "metadata": {},
          "output_type": "execute_result"
        }
      ],
      "source": [
        "second_list = my_list\n",
        "\n",
        "second_list"
      ]
    },
    {
      "cell_type": "code",
      "execution_count": null,
      "metadata": {
        "colab": {
          "base_uri": "https://localhost:8080/"
        },
        "id": "hlWkvdqbPEII",
        "outputId": "53c5fa92-78d6-4863-c506-5e550a406700"
      },
      "outputs": [
        {
          "data": {
            "text/plain": [
              "[1, 2, 3, 4, 5, 6]"
            ]
          },
          "execution_count": 62,
          "metadata": {},
          "output_type": "execute_result"
        }
      ],
      "source": [
        "copy_of_my_list = my_list[:]\n",
        "\n",
        "copy_of_my_list"
      ]
    },
    {
      "cell_type": "code",
      "execution_count": null,
      "metadata": {
        "colab": {
          "base_uri": "https://localhost:8080/"
        },
        "id": "h5d4tZ0dSyP3",
        "outputId": "5e4d3873-d1b5-471a-df6d-354f897abc26"
      },
      "outputs": [
        {
          "data": {
            "text/plain": [
              "[1, 2, 3, 4, 5, 6]"
            ]
          },
          "execution_count": 64,
          "metadata": {},
          "output_type": "execute_result"
        }
      ],
      "source": [
        "second_copy = my_list.copy()\n",
        "second_copy"
      ]
    },
    {
      "cell_type": "code",
      "execution_count": null,
      "metadata": {
        "id": "Ix2JnflfNnjm"
      },
      "outputs": [],
      "source": [
        "my_list.append(10)"
      ]
    },
    {
      "cell_type": "code",
      "execution_count": null,
      "metadata": {
        "colab": {
          "base_uri": "https://localhost:8080/"
        },
        "id": "nAb7W4MjNtM5",
        "outputId": "7565f31d-72fa-4353-900c-b0cc4595477c"
      },
      "outputs": [
        {
          "data": {
            "text/plain": [
              "[1, 2, 3, 4, 5, 6, 10, 10, 10]"
            ]
          },
          "execution_count": 70,
          "metadata": {},
          "output_type": "execute_result"
        }
      ],
      "source": [
        "my_list"
      ]
    },
    {
      "cell_type": "code",
      "execution_count": null,
      "metadata": {
        "colab": {
          "base_uri": "https://localhost:8080/"
        },
        "id": "frNdpvJqNyUh",
        "outputId": "299c1d17-aa33-4707-b3eb-f8faf4ddc9b3"
      },
      "outputs": [
        {
          "data": {
            "text/plain": [
              "[1, 2, 3, 4, 5, 6, 10, 10, 10]"
            ]
          },
          "execution_count": 71,
          "metadata": {},
          "output_type": "execute_result"
        }
      ],
      "source": [
        "second_list"
      ]
    },
    {
      "cell_type": "code",
      "execution_count": null,
      "metadata": {
        "colab": {
          "base_uri": "https://localhost:8080/"
        },
        "id": "aliAZ0M3evJz",
        "outputId": "9912cf8b-1188-4138-a9ac-10c32cf7d4d8"
      },
      "outputs": [
        {
          "data": {
            "text/plain": [
              "[1, 2, 3, 4, 5, 6]"
            ]
          },
          "execution_count": 72,
          "metadata": {},
          "output_type": "execute_result"
        }
      ],
      "source": [
        "copy_of_my_list"
      ]
    },
    {
      "cell_type": "code",
      "execution_count": null,
      "metadata": {
        "colab": {
          "base_uri": "https://localhost:8080/"
        },
        "id": "Il5dtiXdOws9",
        "outputId": "565d9500-7fd5-479c-d619-fea1faf5c0b4"
      },
      "outputs": [
        {
          "data": {
            "text/plain": [
              "[1, 2, 3, 4, 5, 6]"
            ]
          },
          "execution_count": 73,
          "metadata": {},
          "output_type": "execute_result"
        }
      ],
      "source": [
        "second_copy"
      ]
    },
    {
      "cell_type": "markdown",
      "metadata": {
        "id": "cKODwV4eN22i"
      },
      "source": [
        "Here we can see a common problem which can occur. We think that we have made a copy of the original `my_list` which was `[1,2,3]` using the varible name `second_list`. However, when we then manipulate `my_list` we continue to manipulate `second_list`.\n",
        "\n",
        "This is because both are pointing at the same list. If we wish to just make a copy of the original `my_list`"
      ]
    },
    {
      "cell_type": "markdown",
      "metadata": {
        "id": "rNGvZKVDfHyB"
      },
      "source": [
        "#### Index"
      ]
    },
    {
      "cell_type": "markdown",
      "metadata": {
        "id": "xq6LPq3zfLn9"
      },
      "source": [
        "The index of a list in Python starts at 0 and ends at n-1 where n is the length of the list.\n",
        "\n",
        "So if we want the first element from `my_list` we:"
      ]
    },
    {
      "cell_type": "code",
      "execution_count": null,
      "metadata": {
        "colab": {
          "base_uri": "https://localhost:8080/"
        },
        "id": "q6ZPI6pifabH",
        "outputId": "11c772d2-8ae7-4939-fd8b-885e3e4b5b82"
      },
      "outputs": [
        {
          "data": {
            "text/plain": [
              "1"
            ]
          },
          "execution_count": 79,
          "metadata": {},
          "output_type": "execute_result"
        }
      ],
      "source": [
        "my_list[0]"
      ]
    },
    {
      "cell_type": "markdown",
      "metadata": {
        "id": "9fEZyZeqfdkT"
      },
      "source": [
        "The third element would be:"
      ]
    },
    {
      "cell_type": "code",
      "execution_count": null,
      "metadata": {
        "colab": {
          "base_uri": "https://localhost:8080/"
        },
        "id": "5K7peWAlfhWT",
        "outputId": "54c78984-54c8-4bac-b4cf-2b2429650219"
      },
      "outputs": [
        {
          "data": {
            "text/plain": [
              "3"
            ]
          },
          "execution_count": 80,
          "metadata": {},
          "output_type": "execute_result"
        }
      ],
      "source": [
        "my_list[2]"
      ]
    },
    {
      "cell_type": "markdown",
      "metadata": {
        "id": "2le2AenDhELr"
      },
      "source": [
        "The last element can be found using negative values i.e. working backwards through the list."
      ]
    },
    {
      "cell_type": "code",
      "execution_count": null,
      "metadata": {
        "colab": {
          "base_uri": "https://localhost:8080/"
        },
        "id": "0UB3DnEphDge",
        "outputId": "52e883bd-434f-4f12-816b-cb930845e851"
      },
      "outputs": [
        {
          "data": {
            "text/plain": [
              "10"
            ]
          },
          "execution_count": 81,
          "metadata": {},
          "output_type": "execute_result"
        }
      ],
      "source": [
        "my_list[-1]"
      ]
    },
    {
      "cell_type": "code",
      "execution_count": null,
      "metadata": {
        "colab": {
          "base_uri": "https://localhost:8080/"
        },
        "id": "0bSdetZuhRWG",
        "outputId": "bbb70a96-b2fe-4bca-b6b5-b0111a73ec84"
      },
      "outputs": [
        {
          "data": {
            "text/plain": [
              "5"
            ]
          },
          "execution_count": 84,
          "metadata": {},
          "output_type": "execute_result"
        }
      ],
      "source": [
        "my_list[-5]"
      ]
    },
    {
      "cell_type": "code",
      "execution_count": null,
      "metadata": {
        "colab": {
          "base_uri": "https://localhost:8080/"
        },
        "id": "cQN-HmJwTsPl",
        "outputId": "f65105e4-a416-4507-a6fc-411f6efbe1fc"
      },
      "outputs": [
        {
          "data": {
            "text/plain": [
              "9"
            ]
          },
          "execution_count": 85,
          "metadata": {},
          "output_type": "execute_result"
        }
      ],
      "source": [
        "len(my_list)"
      ]
    },
    {
      "cell_type": "markdown",
      "metadata": {
        "id": "n3EoXFOffoI1"
      },
      "source": [
        "#### Slicing a list"
      ]
    },
    {
      "cell_type": "markdown",
      "metadata": {
        "id": "xbQMkGqhfqoc"
      },
      "source": [
        "If we want the first two elements of a list we can slice it as follows:"
      ]
    },
    {
      "cell_type": "code",
      "execution_count": null,
      "metadata": {
        "colab": {
          "base_uri": "https://localhost:8080/"
        },
        "id": "CUVOZfQ9gJ2c",
        "outputId": "c0f16588-ce8d-4a0b-837a-27ede3e639fb"
      },
      "outputs": [
        {
          "data": {
            "text/plain": [
              "[1, 2, 3, 4, 5]"
            ]
          },
          "execution_count": 87,
          "metadata": {},
          "output_type": "execute_result"
        }
      ],
      "source": [
        "my_list[:5]"
      ]
    },
    {
      "cell_type": "markdown",
      "metadata": {
        "id": "knF-PkpKgpjF"
      },
      "source": [
        "Other slicing:"
      ]
    },
    {
      "cell_type": "code",
      "execution_count": null,
      "metadata": {
        "colab": {
          "base_uri": "https://localhost:8080/"
        },
        "id": "IuhiQe43gr6x",
        "outputId": "097fb7a2-f04e-4a6a-ace7-0eda59ea71b1"
      },
      "outputs": [
        {
          "data": {
            "text/plain": [
              "[3, 4, 5, 6, 10, 10, 10]"
            ]
          },
          "execution_count": 88,
          "metadata": {},
          "output_type": "execute_result"
        }
      ],
      "source": [
        "my_list[2:]"
      ]
    },
    {
      "cell_type": "code",
      "execution_count": null,
      "metadata": {
        "colab": {
          "base_uri": "https://localhost:8080/"
        },
        "id": "N-DC10JUguWB",
        "outputId": "5dd48b1b-e1ef-4c77-8330-17c99b197c06"
      },
      "outputs": [
        {
          "data": {
            "text/plain": [
              "[2, 3, 4]"
            ]
          },
          "execution_count": 89,
          "metadata": {},
          "output_type": "execute_result"
        }
      ],
      "source": [
        "my_list[1:4]"
      ]
    },
    {
      "cell_type": "code",
      "execution_count": null,
      "metadata": {
        "colab": {
          "base_uri": "https://localhost:8080/"
        },
        "id": "e_QRK7bNg_oK",
        "outputId": "d4d55fe0-0ced-4684-ab30-49c78415c8f2"
      },
      "outputs": [
        {
          "data": {
            "text/plain": [
              "[2, 3, 4, 5, 6, 10, 10]"
            ]
          },
          "execution_count": 90,
          "metadata": {},
          "output_type": "execute_result"
        }
      ],
      "source": [
        "my_list[1:-1]"
      ]
    },
    {
      "cell_type": "markdown",
      "metadata": {
        "id": "6R_gXl_ShlII"
      },
      "source": [
        "#### Combining Lists"
      ]
    },
    {
      "cell_type": "code",
      "execution_count": null,
      "metadata": {
        "colab": {
          "base_uri": "https://localhost:8080/"
        },
        "id": "g98RuaWnjFsL",
        "outputId": "cace34f8-34cc-4d84-b12c-1b40071b7b1b"
      },
      "outputs": [
        {
          "data": {
            "text/plain": [
              "[1, 2, 3, 4, 5, 6, 10, 10, 10, 'a', 'b']"
            ]
          },
          "execution_count": 91,
          "metadata": {},
          "output_type": "execute_result"
        }
      ],
      "source": [
        "y = my_list + string_list\n",
        "\n",
        "y"
      ]
    },
    {
      "cell_type": "code",
      "execution_count": null,
      "metadata": {
        "id": "OApZfN2mj10C"
      },
      "outputs": [],
      "source": [
        "my_list.extend([12,13,14])"
      ]
    },
    {
      "cell_type": "code",
      "execution_count": null,
      "metadata": {
        "colab": {
          "base_uri": "https://localhost:8080/"
        },
        "id": "QkhhfkWxVAnU",
        "outputId": "b11ee54e-6aba-4502-abb0-b175650d6024"
      },
      "outputs": [
        {
          "data": {
            "text/plain": [
              "[1, 2, 3, 4, 5, 6, 10, 10, 10, 12, 13, 14]"
            ]
          },
          "execution_count": 93,
          "metadata": {},
          "output_type": "execute_result"
        }
      ],
      "source": [
        "my_list"
      ]
    },
    {
      "cell_type": "code",
      "execution_count": null,
      "metadata": {
        "colab": {
          "base_uri": "https://localhost:8080/"
        },
        "id": "nK1KPqL2jNzy",
        "outputId": "60fa91dc-012a-4c57-8f9c-39430c5fa855"
      },
      "outputs": [
        {
          "data": {
            "text/plain": [
              "[1, 2, 3, 4, 5, 6, 10, 10, 10, 12, 13, 14, [12, 13, 14]]"
            ]
          },
          "execution_count": 94,
          "metadata": {},
          "output_type": "execute_result"
        }
      ],
      "source": [
        "my_list.append([12,13,14])\n",
        "my_list"
      ]
    },
    {
      "cell_type": "markdown",
      "metadata": {
        "id": "x7cz5oD3kcVR"
      },
      "source": [
        "#### Changing values in list"
      ]
    },
    {
      "cell_type": "markdown",
      "metadata": {
        "id": "3N3O0Q4vkmrO"
      },
      "source": [
        "Current value of the first element in `my_list`"
      ]
    },
    {
      "cell_type": "code",
      "execution_count": null,
      "metadata": {
        "colab": {
          "base_uri": "https://localhost:8080/"
        },
        "id": "Qdog6yHMkgyH",
        "outputId": "00c358be-c5fd-4d96-f61d-c7bdc134e0da"
      },
      "outputs": [
        {
          "data": {
            "text/plain": [
              "1"
            ]
          },
          "execution_count": 95,
          "metadata": {},
          "output_type": "execute_result"
        }
      ],
      "source": [
        "my_list[0]"
      ]
    },
    {
      "cell_type": "markdown",
      "metadata": {
        "id": "9y55NIBQkrHy"
      },
      "source": [
        "Now change the value to `'dog'`"
      ]
    },
    {
      "cell_type": "code",
      "execution_count": null,
      "metadata": {
        "id": "atoPOFKckxkG"
      },
      "outputs": [],
      "source": [
        "my_list[0] = 'dog'"
      ]
    },
    {
      "cell_type": "markdown",
      "metadata": {
        "id": "QP4WDhVRk0Xs"
      },
      "source": [
        "Check new value"
      ]
    },
    {
      "cell_type": "code",
      "execution_count": null,
      "metadata": {
        "colab": {
          "base_uri": "https://localhost:8080/",
          "height": 35
        },
        "id": "9-T9rc6Hk2T-",
        "outputId": "6a275791-cc5f-4ea4-85ca-e21beff57def"
      },
      "outputs": [
        {
          "data": {
            "application/vnd.google.colaboratory.intrinsic+json": {
              "type": "string"
            },
            "text/plain": [
              "'dog'"
            ]
          },
          "execution_count": 97,
          "metadata": {},
          "output_type": "execute_result"
        }
      ],
      "source": [
        "my_list[0]"
      ]
    },
    {
      "cell_type": "code",
      "execution_count": null,
      "metadata": {
        "colab": {
          "base_uri": "https://localhost:8080/"
        },
        "id": "DwuK4WYPVQRy",
        "outputId": "af30117e-76bd-44ee-9962-9489ed67fe48"
      },
      "outputs": [
        {
          "data": {
            "text/plain": [
              "['dog', 2, 3, 4, 5, 6, 10, 10, 10, 12, 13, 14, [12, 13, 14]]"
            ]
          },
          "execution_count": 98,
          "metadata": {},
          "output_type": "execute_result"
        }
      ],
      "source": [
        "my_list"
      ]
    },
    {
      "cell_type": "markdown",
      "metadata": {
        "id": "tnP8N5ZG7KBE"
      },
      "source": [
        "### Why are Lists useful in Python?\n",
        "\n",
        "1. **Ordered Collection**: Lists maintain the order of elements, allowing for indexed access, iteration, and other operations that rely on a specific order.\n",
        "\n",
        "2. **Mutable**: Lists are mutable, which means you can modify their content by adding, removing, or changing items after the list has been created.\n",
        "\n",
        "3. **Versatile**: Lists can store items of any data type, including other lists, allowing for complex data structures like matrices or multi-dimensional arrays.\n",
        "\n",
        "4. **Dynamic Resizing**: Unlike arrays in many other languages, Python lists can grow or shrink dynamically, providing flexibility in managing collections of items.\n",
        "\n",
        "5. **Built-in Methods**: Python provides a plethora of built-in methods for lists, such as `append()`, `remove()`, `sort()`, and `reverse()`, making it easy to perform common operations.\n",
        "\n",
        "6. **Slicing**: Lists support slicing, which allows you to extract a portion of the list using a concise syntax: `list[start:end:step]`.\n",
        "\n",
        "7. **Iterability**: Lists are iterable, making them compatible with loops and many built-in functions like `sum()`, `min()`, and `max()`.\n"
      ]
    },
    {
      "cell_type": "markdown",
      "metadata": {
        "id": "e_-T6IFM06B7"
      },
      "source": [
        "### Task\n",
        "\n",
        "Write a function which multiplies the first and last element of a list together."
      ]
    },
    {
      "cell_type": "code",
      "execution_count": null,
      "metadata": {
        "colab": {
          "base_uri": "https://localhost:8080/"
        },
        "id": "oIzXjBOH6Uev",
        "outputId": "a9e26e57-c527-4805-e41f-fa2e65408757"
      },
      "outputs": [
        {
          "data": {
            "text/plain": [
              "9999800001"
            ]
          },
          "execution_count": 40,
          "metadata": {},
          "output_type": "execute_result"
        }
      ],
      "source": [
        "def listCal(inputList):\n",
        "  return inputList[0] * inputList[-1]\n",
        "\n",
        "data = [99999, 2, 4, 10, 99999]\n",
        "listCal(data)"
      ]
    },
    {
      "cell_type": "markdown",
      "metadata": {
        "id": "U_TZjj_z6PVV"
      },
      "source": [
        "#### Solution"
      ]
    },
    {
      "cell_type": "code",
      "execution_count": null,
      "metadata": {
        "id": "SJEnXCqF1pD3"
      },
      "outputs": [],
      "source": [
        "def my_function(x):\n",
        "  first_element = x[0]\n",
        "  last_element = x[-1]\n",
        "  return first_element*last_element"
      ]
    },
    {
      "cell_type": "markdown",
      "metadata": {
        "id": "qzGNUkBCkEYZ"
      },
      "source": [
        "### Dictionaries"
      ]
    },
    {
      "cell_type": "markdown",
      "metadata": {
        "id": "DzH4gh_J804Y"
      },
      "source": [
        "### What are Dictionaries?\n",
        "\n",
        "In Python, a dictionary (often referred to as a \"dict\") is an unordered collection of items. Each item is stored as a pair of a key and its corresponding value. Dictionaries are mutable, which means you can add, remove, or modify items after the dictionary has been created. Keys in a dictionary are unique, meaning there can't be two items with the same key.\n",
        "\n",
        "### Syntax:\n",
        "\n",
        "The general syntax to define a dictionary in Python is:\n",
        "\n",
        "```python\n",
        "dict_name = {key1: value1, key2: value2, ...}\n",
        "```\n"
      ]
    },
    {
      "cell_type": "markdown",
      "metadata": {
        "id": "PumF0WL49B3a"
      },
      "source": [
        "#### Examples"
      ]
    },
    {
      "cell_type": "code",
      "execution_count": null,
      "metadata": {
        "id": "wZPUQJkOk6Tv"
      },
      "outputs": [],
      "source": [
        "ID_Name_Dict = {18023: 'Chris Morris', 18024:'Jacob Miles', 18025: 'Harry Clarke'}"
      ]
    },
    {
      "cell_type": "markdown",
      "metadata": {
        "id": "vNjqiWsW84Tz"
      },
      "source": [
        "Above the keys are the student ID and the value is the corresponding name."
      ]
    },
    {
      "cell_type": "code",
      "execution_count": null,
      "metadata": {
        "colab": {
          "base_uri": "https://localhost:8080/",
          "height": 35
        },
        "id": "VSnokrhK84B0",
        "outputId": "6ea3d152-92d8-4ac0-93b7-96816e09176b"
      },
      "outputs": [
        {
          "data": {
            "application/vnd.google.colaboratory.intrinsic+json": {
              "type": "string"
            },
            "text/plain": [
              "'Harry Clarke'"
            ]
          },
          "execution_count": 108,
          "metadata": {},
          "output_type": "execute_result"
        }
      ],
      "source": [
        "ID_Name_Dict[18025]"
      ]
    },
    {
      "cell_type": "code",
      "execution_count": null,
      "metadata": {
        "colab": {
          "base_uri": "https://localhost:8080/",
          "height": 165
        },
        "id": "Kx8aJI-n9R3W",
        "outputId": "17eb06da-6245-4637-a097-3a02c3febdf0"
      },
      "outputs": [
        {
          "ename": "KeyError",
          "evalue": "ignored",
          "output_type": "error",
          "traceback": [
            "\u001b[0;31m---------------------------------------------------------------------------\u001b[0m",
            "\u001b[0;31mKeyError\u001b[0m                                  Traceback (most recent call last)",
            "\u001b[0;32m<ipython-input-109-278e87cc45c2>\u001b[0m in \u001b[0;36m<module>\u001b[0;34m\u001b[0m\n\u001b[0;32m----> 1\u001b[0;31m \u001b[0mID_Name_Dict\u001b[0m\u001b[0;34m[\u001b[0m\u001b[0;36m18026\u001b[0m\u001b[0;34m]\u001b[0m\u001b[0;34m\u001b[0m\u001b[0;34m\u001b[0m\u001b[0m\n\u001b[0m",
            "\u001b[0;31mKeyError\u001b[0m: 18026"
          ]
        }
      ],
      "source": [
        "ID_Name_Dict[18026]"
      ]
    },
    {
      "cell_type": "markdown",
      "metadata": {
        "id": "PJE7zYIB9VUx"
      },
      "source": [
        "If, as above, no key exists then we obtain an error. We can add a key-value pair to the dictionary in the following way:"
      ]
    },
    {
      "cell_type": "code",
      "execution_count": null,
      "metadata": {
        "id": "QnM-knBG9jhf"
      },
      "outputs": [],
      "source": [
        "ID_Name_Dict[18026] = 'John Smith'"
      ]
    },
    {
      "cell_type": "code",
      "execution_count": null,
      "metadata": {
        "colab": {
          "base_uri": "https://localhost:8080/"
        },
        "id": "YhgbqgOMZaaq",
        "outputId": "5e7561af-f4b3-4814-fe9f-46cc48606f26"
      },
      "outputs": [
        {
          "data": {
            "text/plain": [
              "{18023: 'Chris Morris',\n",
              " 18024: 'Jacob Miles',\n",
              " 18025: 'Harry Clarke',\n",
              " 18026: 'Barry'}"
            ]
          },
          "execution_count": 113,
          "metadata": {},
          "output_type": "execute_result"
        }
      ],
      "source": [
        "ID_Name_Dict"
      ]
    },
    {
      "cell_type": "code",
      "execution_count": null,
      "metadata": {
        "id": "o7txQowQZfXS"
      },
      "outputs": [],
      "source": [
        "ID_Name_Dict[18026] = 'Barry'"
      ]
    },
    {
      "cell_type": "markdown",
      "metadata": {
        "id": "Hgm23oyb9ykl"
      },
      "source": [
        "Checking if key exists"
      ]
    },
    {
      "cell_type": "code",
      "execution_count": null,
      "metadata": {
        "colab": {
          "base_uri": "https://localhost:8080/"
        },
        "id": "aNV4xNtL9tDn",
        "outputId": "2db5be20-561d-43b0-976b-e7dc40437f40"
      },
      "outputs": [
        {
          "data": {
            "text/plain": [
              "True"
            ]
          },
          "execution_count": 115,
          "metadata": {},
          "output_type": "execute_result"
        }
      ],
      "source": [
        "18026 in ID_Name_Dict"
      ]
    },
    {
      "cell_type": "markdown",
      "metadata": {
        "id": "dwA542UC96oX"
      },
      "source": [
        "Listing the keys and values"
      ]
    },
    {
      "cell_type": "code",
      "execution_count": null,
      "metadata": {
        "colab": {
          "base_uri": "https://localhost:8080/"
        },
        "id": "xmII9AUOZueZ",
        "outputId": "2bb9397a-0268-4768-9912-4907ae43996d"
      },
      "outputs": [
        {
          "data": {
            "text/plain": [
              "dict_values(['Chris Morris', 'Jacob Miles', 'Harry Clarke', 'Barry'])"
            ]
          },
          "execution_count": 116,
          "metadata": {},
          "output_type": "execute_result"
        }
      ],
      "source": [
        "ID_Name_Dict.values()"
      ]
    },
    {
      "cell_type": "code",
      "execution_count": null,
      "metadata": {
        "colab": {
          "base_uri": "https://localhost:8080/"
        },
        "id": "4SJ30l9295uB",
        "outputId": "6c45e651-006a-4d49-bcab-25fd7a9e7583"
      },
      "outputs": [
        {
          "data": {
            "text/plain": [
              "dict_keys([18023, 18024, 18025, 18026])"
            ]
          },
          "execution_count": 117,
          "metadata": {},
          "output_type": "execute_result"
        }
      ],
      "source": [
        "ID_Name_Dict.keys()"
      ]
    },
    {
      "cell_type": "markdown",
      "metadata": {
        "id": "BjTeBqo--jeH"
      },
      "source": [
        "Creating an empty dictionary"
      ]
    },
    {
      "cell_type": "code",
      "execution_count": null,
      "metadata": {
        "id": "TSm_Tn3i-nHW"
      },
      "outputs": [],
      "source": [
        "empty_dict = {}"
      ]
    },
    {
      "cell_type": "markdown",
      "metadata": {
        "id": "9ymZAZr29ICi"
      },
      "source": [
        "\n",
        "### Why are Dictionaries useful in Python?\n",
        "\n",
        "1. **Key-Value Storage**: Dictionaries allow you to store data in a key-value pair format, making it easy to retrieve values based on their keys.\n",
        "\n",
        "2. **Unordered**: Unlike lists, dictionaries are unordered, which means the items are not stored in any specific order. This allows for efficient retrieval of values based on keys.\n",
        "\n",
        "3. **Mutable**: Dictionaries are mutable, allowing you to add, remove, or modify items after the dictionary has been created.\n",
        "\n",
        "4. **Unique Keys**: Each key in a dictionary must be unique, ensuring that each key-value pair can be retrieved unambiguously.\n",
        "\n",
        "5. **Versatile**: Both keys and values in dictionaries can be of any data type, allowing for a wide range of data structures.\n",
        "\n",
        "6. **Built-in Methods**: Python provides numerous built-in methods for dictionaries, such as `get()`, `keys()`, `values()`, and `items()`, facilitating various operations.\n",
        "\n",
        "7. **Dynamic Resizing**: Dictionaries in Python can grow or shrink dynamically, providing flexibility in managing key-value pairs.\n",
        "\n",
        "9. **Suitable for Metadata**: Dictionaries are ideal for storing and managing data that can be categorized or labeled, such as configuration settings, user profiles, or records in a database."
      ]
    },
    {
      "cell_type": "markdown",
      "metadata": {
        "id": "Z3fwJulH4a0o"
      },
      "source": [
        "### Task\n",
        "\n",
        "Create a dictionary with keys given by\n",
        "\n",
        "[ Apple, Orange, Blackberry ]\n",
        "\n",
        "and values of\n",
        "\n",
        "[4, 9, 2]"
      ]
    },
    {
      "cell_type": "code",
      "execution_count": null,
      "metadata": {
        "colab": {
          "base_uri": "https://localhost:8080/"
        },
        "id": "8pKVkY5eIkFX",
        "outputId": "7afee185-cc4c-447a-a0a3-bcc354c7884b"
      },
      "outputs": [
        {
          "data": {
            "text/plain": [
              "{'Apple': 4, 'Orange': 9, 'Blackberry': 2}"
            ]
          },
          "execution_count": 41,
          "metadata": {},
          "output_type": "execute_result"
        }
      ],
      "source": [
        "fruitDict = {\n",
        "    'Apple':4,\n",
        "    'Orange':9,\n",
        "    'Blackberry': 2\n",
        "}\n",
        "\n",
        "fruitDict"
      ]
    },
    {
      "cell_type": "markdown",
      "metadata": {
        "id": "zayt76l8cf4G"
      },
      "source": [
        "#### Solution"
      ]
    },
    {
      "cell_type": "code",
      "execution_count": null,
      "metadata": {
        "id": "E0CrN4AR4vM7"
      },
      "outputs": [],
      "source": [
        "fruit = {'Apple': 4 , 'Orange':9 , 'Blackberry':2 }"
      ]
    },
    {
      "cell_type": "code",
      "execution_count": null,
      "metadata": {
        "colab": {
          "base_uri": "https://localhost:8080/",
          "height": 35
        },
        "id": "tsiWGbMpbUop",
        "outputId": "ef67c153-8939-48e2-d055-1aee4549677e"
      },
      "outputs": [
        {
          "data": {
            "text/plain": [
              "{'Apple': 4, 'Blackberry': 2, 'Orange': 9}"
            ]
          },
          "execution_count": 88,
          "metadata": {
            "tags": []
          },
          "output_type": "execute_result"
        }
      ],
      "source": [
        "fruit"
      ]
    },
    {
      "cell_type": "markdown",
      "metadata": {
        "id": "wpEtM9R-4vwu"
      },
      "source": [
        "### Task\n",
        "\n",
        "Now add a  strawberry key to the dictionary with a value of 8."
      ]
    },
    {
      "cell_type": "code",
      "execution_count": null,
      "metadata": {
        "colab": {
          "base_uri": "https://localhost:8080/"
        },
        "id": "zlDQs-jWxKnO",
        "outputId": "37801cb4-29bb-44ab-d8e0-3d3356e2d981"
      },
      "outputs": [
        {
          "data": {
            "text/plain": [
              "{'Apple': 4, 'Orange': 9, 'Blackberry': 2, 'strawberry': 8, 'Strawberry': 8}"
            ]
          },
          "execution_count": 43,
          "metadata": {},
          "output_type": "execute_result"
        }
      ],
      "source": [
        "fruitDict['Strawberry'] = 8\n",
        "fruitDict"
      ]
    },
    {
      "cell_type": "markdown",
      "metadata": {
        "id": "zY6xaKwMItYo"
      },
      "source": [
        "#### Solution"
      ]
    },
    {
      "cell_type": "code",
      "execution_count": null,
      "metadata": {
        "id": "jsUllWRcKps4"
      },
      "outputs": [],
      "source": [
        "fruit['Strawberry'] = 8"
      ]
    },
    {
      "cell_type": "code",
      "execution_count": null,
      "metadata": {
        "id": "Q4NUMsQKKWV2"
      },
      "outputs": [],
      "source": [
        "fruit"
      ]
    },
    {
      "cell_type": "markdown",
      "metadata": {
        "id": "ADVi5wlZt__q"
      },
      "source": [
        "## Control Flow"
      ]
    },
    {
      "cell_type": "markdown",
      "metadata": {
        "id": "kC-Uz9Wdt__q"
      },
      "source": [
        "## if, elif, and else"
      ]
    },
    {
      "cell_type": "markdown",
      "metadata": {
        "id": "Z7_Lyq3y34kg"
      },
      "source": [
        "### What are if, elif, and else statements?\n",
        "\n",
        "In Python, `if`, `elif`, and `else` are conditional statements that allow code to be executed based on whether a specified condition is `True` or `False`. They provide a way to make decisions in your code.\n",
        "\n",
        "### Syntax:\n",
        "\n",
        "The general syntax of `if`, `elif`, and `else` in Python is:\n",
        "\n",
        "```python\n",
        "if condition1:\n",
        "    # code to be executed if condition1 is True\n",
        "elif condition2:\n",
        "    # code to be executed if condition1 is False and condition2 is True\n",
        "else:\n",
        "    # code to be executed if both condition1 and condition2 are False\n",
        "```\n",
        "\n",
        "The `elif` and `else` parts are optional. You can have multiple `elif` statements but only one `else` statement, and it must come after all `if` and `elif` statements.\n"
      ]
    },
    {
      "cell_type": "markdown",
      "metadata": {
        "id": "-zOB8X3C3-Tz"
      },
      "source": [
        "### Examples:"
      ]
    },
    {
      "cell_type": "markdown",
      "metadata": {
        "id": "tetZ5b-U4AQw"
      },
      "source": [
        "1. Basic `if` statement:"
      ]
    },
    {
      "cell_type": "code",
      "execution_count": null,
      "metadata": {
        "id": "f6bEGzEhAI48"
      },
      "outputs": [],
      "source": [
        "x=0\n",
        "\n",
        "if x != 0:\n",
        "  print('It is not zero')"
      ]
    },
    {
      "cell_type": "markdown",
      "metadata": {
        "id": "CNuMxPTA4ErO"
      },
      "source": [
        "2. `if` and `else` together:"
      ]
    },
    {
      "cell_type": "code",
      "execution_count": null,
      "metadata": {
        "colab": {
          "base_uri": "https://localhost:8080/"
        },
        "id": "HyZ-vmqkAz4n",
        "outputId": "fe62aaca-ce6a-460e-b485-9e362bc6a927"
      },
      "outputs": [
        {
          "name": "stdout",
          "output_type": "stream",
          "text": [
            "It is zero\n"
          ]
        }
      ],
      "source": [
        "x=0\n",
        "\n",
        "if x != 0:\n",
        "  print('It is not zero')\n",
        "else:\n",
        "  print('It is zero')"
      ]
    },
    {
      "cell_type": "markdown",
      "metadata": {
        "id": "BECMl78-4IpW"
      },
      "source": [
        "3. All three together"
      ]
    },
    {
      "cell_type": "code",
      "execution_count": null,
      "metadata": {
        "colab": {
          "base_uri": "https://localhost:8080/"
        },
        "id": "1kxR3rInA8HE",
        "outputId": "9d710680-2192-4f1f-bbbf-d5a65a651d51"
      },
      "outputs": [
        {
          "name": "stdout",
          "output_type": "stream",
          "text": [
            "it is between 0 and 10\n"
          ]
        }
      ],
      "source": [
        "x = 5\n",
        "\n",
        "if x > 10:\n",
        "  print('it is bigger than 10')\n",
        "elif x < 0:\n",
        "  print('it is less than 0')\n",
        "else:\n",
        "  print('it is between 0 and 10')\n",
        "\n"
      ]
    },
    {
      "cell_type": "markdown",
      "metadata": {
        "id": "0wfksu4l4TCi"
      },
      "source": [
        "### Why are if, elif, and else statements useful in Python?\n",
        "\n",
        "1. **Decision Making**: These conditional statements are fundamental for decision-making in programming. They allow the program to evaluate different conditions and execute specific blocks of code based on those conditions.\n",
        "\n",
        "2. **Code Organization**: By using `if`, `elif`, and `else`, you can structure your code in a clear and readable manner, making it easier to understand the flow of the program.\n",
        "\n",
        "3. **Efficiency**: Instead of executing all lines of code, the program can skip unnecessary blocks of code based on conditions, making it more efficient.\n",
        "\n",
        "4. **Handling Different Scenarios**: They allow the program to handle different scenarios or cases. For example, in a calculator program, different operations (add, subtract, multiply, divide) can be performed based on user input.\n",
        "\n",
        "5. **Error Handling**: Conditional statements can be used to check for potential errors or invalid inputs and handle them gracefully.\n",
        "\n",
        "6. **Dynamic Behavior**: They enable the program to adapt its behavior based on external factors, such as user input, file contents, or sensor readings.\n"
      ]
    },
    {
      "cell_type": "markdown",
      "metadata": {
        "id": "94V-9otz5R0F"
      },
      "source": [
        "### Task\n",
        "\n",
        "Create an if-loop that prints True if a number is a prime number less than 10."
      ]
    },
    {
      "cell_type": "code",
      "execution_count": null,
      "metadata": {
        "colab": {
          "base_uri": "https://localhost:8080/"
        },
        "id": "r6iNs1-bcsYh",
        "outputId": "31cf5bd7-96ae-4997-8f9d-46af2b855ee5"
      },
      "outputs": [
        {
          "data": {
            "text/plain": [
              "False"
            ]
          },
          "execution_count": 47,
          "metadata": {},
          "output_type": "execute_result"
        }
      ],
      "source": [
        "def isPrime(number):\n",
        "  validPrimes = [2, 3, 5, 7]\n",
        "  if number in validPrimes:\n",
        "    return True\n",
        "  return False\n",
        "\n",
        "isPrime(99)"
      ]
    },
    {
      "cell_type": "markdown",
      "metadata": {
        "id": "8jB6ANp-cqc3"
      },
      "source": [
        "#### Solution"
      ]
    },
    {
      "cell_type": "code",
      "execution_count": null,
      "metadata": {
        "colab": {
          "base_uri": "https://localhost:8080/",
          "height": 35
        },
        "id": "SqpIpWUxdgsM",
        "outputId": "26ec42d8-253d-49cc-964d-a1d610245039"
      },
      "outputs": [
        {
          "name": "stdout",
          "output_type": "stream",
          "text": [
            "True\n"
          ]
        }
      ],
      "source": [
        "x = 7\n",
        "\n",
        "if x==2:\n",
        "  print('True')\n",
        "elif x==3:\n",
        "  print('True')\n",
        "elif x == 5:\n",
        "  print('True')\n",
        "elif x == 7:\n",
        "  print('True')\n",
        "else:\n",
        "  print('False')\n",
        "\n"
      ]
    },
    {
      "cell_type": "code",
      "execution_count": null,
      "metadata": {
        "colab": {
          "base_uri": "https://localhost:8080/",
          "height": 35
        },
        "id": "rCDYN0bdghBC",
        "outputId": "450bf95a-ef72-4fc1-9e31-bf4d3a338785"
      },
      "outputs": [
        {
          "name": "stdout",
          "output_type": "stream",
          "text": [
            "True\n"
          ]
        }
      ],
      "source": [
        "primes = [2,3,5,7]\n",
        "\n",
        "if x in primes:\n",
        "  print('True')\n",
        "else:\n",
        "  print('False')"
      ]
    },
    {
      "cell_type": "markdown",
      "metadata": {
        "id": "siKnSQGdt__v"
      },
      "source": [
        "## for loops"
      ]
    },
    {
      "cell_type": "markdown",
      "metadata": {
        "id": "tdRmC_aZyBvK"
      },
      "source": [
        "### What are for-loops?\n",
        "\n",
        "In Python, a `for` loop is a control flow statement that allows code to be executed repeatedly based on a specified number of times or over a sequence (like a list, tuple, dictionary, set, or string). The loop iterates over each item in the sequence, executing the code block for each item, until the sequence is exhausted or a break statement is encountered.\n",
        "\n",
        "### Syntax:\n",
        "\n",
        "The general syntax of a `for` loop in Python is:\n",
        "\n",
        "```python\n",
        "for variable in sequence:\n",
        "    # code to be executed for each item in the sequence\n",
        "```\n",
        "\n",
        "\n",
        "\n"
      ]
    },
    {
      "cell_type": "markdown",
      "metadata": {
        "id": "nfiimDgByweH"
      },
      "source": [
        "### Examples:\n",
        "\n"
      ]
    },
    {
      "cell_type": "markdown",
      "metadata": {
        "id": "VJVA-VN8zEl7"
      },
      "source": [
        "1. Iterating over a list:"
      ]
    },
    {
      "cell_type": "code",
      "execution_count": null,
      "metadata": {
        "id": "noiFHBj8y7fD"
      },
      "outputs": [],
      "source": [
        "fruits = [\"apple\", \"banana\", \"cherry\"]\n",
        "for fruit in fruits:\n",
        "    print(fruit)"
      ]
    },
    {
      "cell_type": "markdown",
      "metadata": {
        "id": "9pw5aZzJzFeU"
      },
      "source": [
        "2. Iterating over a string:"
      ]
    },
    {
      "cell_type": "code",
      "execution_count": null,
      "metadata": {
        "id": "9kbenZaey8Dn"
      },
      "outputs": [],
      "source": [
        "word = \"python\"\n",
        "for letter in word:\n",
        "    print(letter)"
      ]
    },
    {
      "cell_type": "markdown",
      "metadata": {
        "id": "wfqiJdm9zH1_"
      },
      "source": [
        "3. Iterating over a range of numbers:"
      ]
    },
    {
      "cell_type": "code",
      "execution_count": null,
      "metadata": {
        "id": "UWcb_Fr2y-wB"
      },
      "outputs": [],
      "source": [
        "for i in range(5):  # This will iterate over numbers from 0 to 4\n",
        "    print(i)"
      ]
    },
    {
      "cell_type": "markdown",
      "metadata": {
        "id": "vhujDulDyfTB"
      },
      "source": [
        "### More Examples"
      ]
    },
    {
      "cell_type": "code",
      "execution_count": null,
      "metadata": {
        "colab": {
          "base_uri": "https://localhost:8080/"
        },
        "id": "HpuWyziNBdcv",
        "outputId": "7b9899a3-811d-44a2-e93a-23d0a44c3ae4"
      },
      "outputs": [
        {
          "name": "stdout",
          "output_type": "stream",
          "text": [
            "Hi\n",
            "Hi\n",
            "Hi\n",
            "Hi\n",
            "Hi\n"
          ]
        }
      ],
      "source": [
        "for i in range(5):\n",
        "  print('Hi')"
      ]
    },
    {
      "cell_type": "code",
      "execution_count": null,
      "metadata": {
        "colab": {
          "base_uri": "https://localhost:8080/"
        },
        "id": "Np2wVgUpBjnH",
        "outputId": "510716e8-845b-4b55-8a26-b46637bdc401"
      },
      "outputs": [
        {
          "name": "stdout",
          "output_type": "stream",
          "text": [
            "dog\n",
            "2\n",
            "3\n",
            "4\n",
            "5\n",
            "6\n",
            "10\n",
            "10\n",
            "10\n",
            "12\n",
            "13\n",
            "14\n",
            "[12, 13, 14]\n"
          ]
        }
      ],
      "source": [
        "for x in my_list:\n",
        "  print(x)"
      ]
    },
    {
      "cell_type": "code",
      "execution_count": null,
      "metadata": {
        "colab": {
          "base_uri": "https://localhost:8080/",
          "height": 87
        },
        "id": "SYbqiRHjCndO",
        "outputId": "ae4784a5-f51e-4ba2-f48d-7192d72baaaf"
      },
      "outputs": [
        {
          "name": "stdout",
          "output_type": "stream",
          "text": [
            "0\n",
            "1\n",
            "2\n",
            "4\n"
          ]
        }
      ],
      "source": [
        "for x in range(10):\n",
        "  if x == 3:\n",
        "    continue\n",
        "  if x==5:\n",
        "    break\n",
        "  print(x)"
      ]
    },
    {
      "cell_type": "code",
      "execution_count": null,
      "metadata": {
        "colab": {
          "base_uri": "https://localhost:8080/"
        },
        "id": "IcPbtQdGt__w",
        "outputId": "14b079b1-2576-4048-ed68-bef441d49ba5"
      },
      "outputs": [
        {
          "name": "stdout",
          "output_type": "stream",
          "text": [
            "(0, 0)\n",
            "(1, 0)\n",
            "(1, 1)\n",
            "(2, 0)\n",
            "(2, 1)\n",
            "(2, 2)\n",
            "(3, 0)\n",
            "(3, 1)\n",
            "(3, 2)\n",
            "(3, 3)\n"
          ]
        }
      ],
      "source": [
        "for i in range(4):\n",
        "\n",
        "    for j in range(4):\n",
        "\n",
        "        if j > i:\n",
        "            break\n",
        "        print((i, j))"
      ]
    },
    {
      "cell_type": "code",
      "execution_count": null,
      "metadata": {
        "colab": {
          "base_uri": "https://localhost:8080/",
          "height": 87
        },
        "id": "hf6Og5w3C5EJ",
        "outputId": "0efc21da-d1da-419c-e25b-d54ebc9dd3ee"
      },
      "outputs": [
        {
          "name": "stdout",
          "output_type": "stream",
          "text": [
            "Student ID: 18023 corresponds to Chris Morris\n",
            "Student ID: 18024 corresponds to Jacob Miles\n",
            "Student ID: 18025 corresponds to Harry Clarke\n",
            "Student ID: 18026 corresponds to Barry\n"
          ]
        }
      ],
      "source": [
        "for key, value in ID_Name_Dict.items():\n",
        "  print('Student ID: %d corresponds to %s' %(key,value))"
      ]
    },
    {
      "cell_type": "markdown",
      "metadata": {
        "id": "k9ZAAzQbzTdN"
      },
      "source": [
        "### Why are for-loops useful in Python?\n",
        "\n",
        "1. **Repetitive Execution**: `for` loops allow you to execute a block of code multiple times, which can save time and reduce the amount of code you have to write.\n",
        "\n",
        "2. **Iteration Over Collections**: Python's `for` loop is versatile and can iterate over various data structures like lists, tuples, dictionaries, sets, and strings. This makes it easy to process and manipulate data stored in these structures.\n",
        "\n",
        "3. **Code Organization**: Using loops can make code more organized and readable by grouping a set of related operations together.\n",
        "\n",
        "4. **Flexibility with Control Flow**: Inside a `for` loop, you can use control statements like `break` (to exit the loop prematurely) and `continue` (to skip to the next iteration), giving you more control over the loop's execution.\n",
        "\n",
        "5. **Comprehensions**: Python offers a feature called comprehensions (like list comprehensions which we will see later) that allow you to create new lists, dictionaries, or sets using a concise and readable `for` loop syntax.\n"
      ]
    },
    {
      "cell_type": "markdown",
      "metadata": {
        "id": "aktgugjX5lz5"
      },
      "source": [
        "### Task\n",
        "\n",
        "Write a function which can take in a list as the input and output a dictionary which shows the count for the number of times each element of the list appears i.e.\n",
        "\n",
        "[1,1,1,1,2,2,2,5] -> {1: 4, 2: 3, 5:1}"
      ]
    },
    {
      "cell_type": "code",
      "execution_count": null,
      "metadata": {
        "colab": {
          "base_uri": "https://localhost:8080/"
        },
        "id": "JtHF8k9jz7g3",
        "outputId": "d51aa932-0a26-4555-f109-b340ca38c57e"
      },
      "outputs": [
        {
          "data": {
            "text/plain": [
              "{1: 4, 2: 3, 3: 3, 4: 1, 5: 1, 6: 1, 13: 1, 43: 1, 44: 1, 33: 5}"
            ]
          },
          "execution_count": 49,
          "metadata": {},
          "output_type": "execute_result"
        }
      ],
      "source": [
        "def listToDict(inputList):\n",
        "  returnDict = {}\n",
        "  for element in inputList:\n",
        "    if element not in returnDict.keys():\n",
        "      returnDict[element] = 1\n",
        "    else:\n",
        "      returnDict[element] += 1\n",
        "\n",
        "  return returnDict\n",
        "\n",
        "data = [1, 2, 3, 4, 5, 6, 1, 2, 3, 1, 3, 13, 1, 2, 43, 44, 33, 33, 33, 33, 33]\n",
        "listToDict(data)"
      ]
    },
    {
      "cell_type": "markdown",
      "metadata": {
        "id": "4XE5hxrHcys_"
      },
      "source": [
        "#### Solution"
      ]
    },
    {
      "cell_type": "code",
      "execution_count": null,
      "metadata": {
        "id": "1_tSvARll8f4"
      },
      "outputs": [],
      "source": [
        "def another_counter(x):\n",
        "\n",
        "  counter_dict = {}\n",
        "\n",
        "  for element in x:\n",
        "\n",
        "    if element in counter_dict.keys():\n",
        "\n",
        "      counter_dict[element] = counter_dict[element] + 1\n",
        "\n",
        "    else:\n",
        "\n",
        "      counter_dict[element] = 1\n",
        "\n",
        "\n",
        "  return counter_dict"
      ]
    },
    {
      "cell_type": "code",
      "execution_count": null,
      "metadata": {
        "id": "QcEuFYZH6SFI"
      },
      "outputs": [],
      "source": [
        "def element_counter(x):\n",
        "\n",
        "  counter_dict = {}\n",
        "\n",
        "  for element in x:\n",
        "\n",
        "    counter_dict[element] = x.count(element)\n",
        "\n",
        "  return counter_dict\n"
      ]
    },
    {
      "cell_type": "markdown",
      "metadata": {
        "id": "TeCQDrwE6RZm"
      },
      "source": [
        "### Task\n",
        "\n",
        "Create a function which takes in two lists and outputs a list of common elements."
      ]
    },
    {
      "cell_type": "code",
      "execution_count": null,
      "metadata": {
        "colab": {
          "base_uri": "https://localhost:8080/"
        },
        "id": "jk3tlzTly2rc",
        "outputId": "6ca39e13-17d7-45a9-a490-58633e309c08"
      },
      "outputs": [
        {
          "data": {
            "text/plain": [
              "[4, 5, 6, 7]"
            ]
          },
          "execution_count": 51,
          "metadata": {},
          "output_type": "execute_result"
        }
      ],
      "source": [
        "def mergeLists(inputList1, inputList2):\n",
        "  return list(set(inputList1) & set(inputList2))\n",
        "\n",
        "data1 = [1, 2, 3, 4, 5, 6, 7]\n",
        "data2 = [4, 5, 6, 7, 8, 9, 10]\n",
        "mergeLists(data1, data2)"
      ]
    },
    {
      "cell_type": "markdown",
      "metadata": {
        "id": "2g_H2BCtc56M"
      },
      "source": [
        "#### Solution"
      ]
    },
    {
      "cell_type": "code",
      "execution_count": null,
      "metadata": {
        "id": "fgIj2Ci-6Qv3"
      },
      "outputs": [],
      "source": [
        "def list_intersection(x,y):\n",
        "  common_elements = []\n",
        "  for element_in_x in x:\n",
        "    if element_in_x in y:\n",
        "      common_elements.append(element_in_x)\n",
        "  return common_elements"
      ]
    },
    {
      "cell_type": "code",
      "execution_count": null,
      "metadata": {
        "colab": {
          "base_uri": "https://localhost:8080/"
        },
        "id": "MRF8mumfGL5r",
        "outputId": "73eda1c7-34e7-4ace-e417-dba7e5153db6"
      },
      "outputs": [
        {
          "data": {
            "text/plain": [
              "[2, 23, 4]"
            ]
          },
          "execution_count": 53,
          "metadata": {},
          "output_type": "execute_result"
        }
      ],
      "source": [
        "list_intersection([1,2,45,73,23,4,543,3],[4,2,8,11,23,111,22,67])"
      ]
    },
    {
      "cell_type": "code",
      "execution_count": null,
      "metadata": {
        "id": "54R26ochHB3N"
      },
      "outputs": [],
      "source": [
        "def list_intersection_2(x,y):\n",
        "  common_elements = [item for item in x if item in y]\n",
        "  return common_elements"
      ]
    },
    {
      "cell_type": "code",
      "execution_count": null,
      "metadata": {
        "colab": {
          "base_uri": "https://localhost:8080/"
        },
        "id": "leBJhtoqHXpd",
        "outputId": "9a33c0e3-9382-4f1e-9170-3b9f27f9467a"
      },
      "outputs": [
        {
          "data": {
            "text/plain": [
              "[2, 23, 4]"
            ]
          },
          "execution_count": 55,
          "metadata": {},
          "output_type": "execute_result"
        }
      ],
      "source": [
        "list_intersection_2([1,2,45,73,23,4,543,3],[4,2,8,11,23,111,22,67])"
      ]
    },
    {
      "cell_type": "markdown",
      "metadata": {
        "id": "RwhZ1CM1t__y"
      },
      "source": [
        "### while loops"
      ]
    },
    {
      "cell_type": "markdown",
      "metadata": {
        "id": "U6jL6eR10RXq"
      },
      "source": [
        "### What are while-loops?\n",
        "\n",
        "In Python, a `while` loop is a control flow statement that allows code to be executed repeatedly based on a specified condition. The loop will continue to execute as long as the condition remains `True`. Once the condition becomes `False`, the loop terminates and the program continues with the next line of code outside the loop.\n",
        "\n",
        "### Syntax:\n",
        "\n",
        "The general syntax of a `while` loop in Python is:\n",
        "\n",
        "```python\n",
        "while condition:\n",
        "    # code to be executed while the condition is True\n",
        "```\n"
      ]
    },
    {
      "cell_type": "markdown",
      "metadata": {
        "id": "OP3hErvy0UTw"
      },
      "source": [
        "### Examples:\n",
        "\n"
      ]
    },
    {
      "cell_type": "markdown",
      "metadata": {
        "id": "_ZrzKrqM0d-l"
      },
      "source": [
        "1. Basic Counter:"
      ]
    },
    {
      "cell_type": "code",
      "execution_count": null,
      "metadata": {
        "colab": {
          "base_uri": "https://localhost:8080/"
        },
        "id": "cvrIz8mqD77U",
        "outputId": "348ba3b7-7f06-46cf-f071-df8d4c4b1384"
      },
      "outputs": [
        {
          "name": "stdout",
          "output_type": "stream",
          "text": [
            "0\n",
            "1\n",
            "2\n",
            "3\n",
            "4\n",
            "5\n",
            "6\n",
            "7\n",
            "8\n",
            "9\n"
          ]
        }
      ],
      "source": [
        "x = 0\n",
        "\n",
        "while x < 10:\n",
        "  print(x)\n",
        "  x += 1"
      ]
    },
    {
      "cell_type": "markdown",
      "metadata": {
        "id": "WhZAgHkF0gg4"
      },
      "source": [
        "2. Using a `break` statement:"
      ]
    },
    {
      "cell_type": "code",
      "execution_count": null,
      "metadata": {
        "id": "qLr9DNal0cja"
      },
      "outputs": [],
      "source": [
        "n = 0\n",
        "while True:\n",
        "    if n == 5:\n",
        "        break\n",
        "    print(n)\n",
        "    n += 1"
      ]
    },
    {
      "cell_type": "markdown",
      "metadata": {
        "id": "UO4C2iUn0njQ"
      },
      "source": [
        "This loop will also print numbers from 0 to 4. The loop will terminate when `n` becomes 5 due to the `break` statement."
      ]
    },
    {
      "cell_type": "code",
      "execution_count": null,
      "metadata": {
        "colab": {
          "base_uri": "https://localhost:8080/"
        },
        "id": "0IQkSeokDhdi",
        "outputId": "f772c1d1-4aa9-40c5-b4d8-876d99621aec"
      },
      "outputs": [
        {
          "name": "stdout",
          "output_type": "stream",
          "text": [
            "256\n",
            "384\n",
            "448\n",
            "480\n",
            "496\n",
            "504\n"
          ]
        }
      ],
      "source": [
        "x = 256\n",
        "total = 0\n",
        "\n",
        "while x > 0:\n",
        "  if total > 500:\n",
        "    break\n",
        "  total += x\n",
        "  x = x // 2\n",
        "  print(total)"
      ]
    },
    {
      "cell_type": "markdown",
      "metadata": {
        "id": "OIbwzeXI03_Z"
      },
      "source": [
        "### Why are while-loops useful in Python?\n",
        "\n",
        "1. **Indeterminate Iteration**: Unlike `for` loops which iterate over a known set of items or a fixed number of times, `while` loops are useful when the number of iterations is not predetermined. They keep running as long as a condition is met.\n",
        "\n",
        "2. **Simplicity**: In scenarios where you just need a simple condition to decide the continuation of the loop, a `while` loop can be more straightforward than setting up a `for` loop.\n",
        "\n",
        "3. **Flexibility with Control Flow**: Inside a `while` loop, you can use control statements like `break` (to exit the loop prematurely) and `continue` (to skip to the next iteration), providing more control over the loop's execution.\n",
        "\n",
        "4. **User Input**: `while` loops are commonly used when waiting for user input. For example, you can keep prompting a user for input until they provide a valid response.\n",
        "\n",
        "5. **Loop Control with External Factors**: `while` loops are useful when the loop's continuation depends on external factors, such as the state of a file, a network connection, or sensor readings in hardware projects.\n",
        "\n"
      ]
    },
    {
      "cell_type": "markdown",
      "metadata": {
        "id": "ppddjDOyt__z"
      },
      "source": [
        "### Range"
      ]
    },
    {
      "cell_type": "code",
      "execution_count": null,
      "metadata": {
        "colab": {
          "base_uri": "https://localhost:8080/",
          "height": 35
        },
        "id": "wv6qBJO6t__z",
        "outputId": "f1d2f49c-f80b-4feb-fa9f-2c87aa6ddfcb"
      },
      "outputs": [
        {
          "data": {
            "text/plain": [
              "[0, 1, 2, 3, 4, 5, 6, 7, 8, 9]"
            ]
          },
          "execution_count": 110,
          "metadata": {
            "tags": []
          },
          "output_type": "execute_result"
        }
      ],
      "source": [
        "range(10)\n",
        "list(range(10))"
      ]
    },
    {
      "cell_type": "code",
      "execution_count": null,
      "metadata": {
        "colab": {
          "base_uri": "https://localhost:8080/",
          "height": 35
        },
        "id": "yP6DUG7xENNh",
        "outputId": "285ea316-925a-40d2-dbbe-a06bee072c04"
      },
      "outputs": [
        {
          "data": {
            "text/plain": [
              "[0, 2, 4, 6, 8, 10, 12, 14, 16, 18]"
            ]
          },
          "execution_count": 111,
          "metadata": {
            "tags": []
          },
          "output_type": "execute_result"
        }
      ],
      "source": [
        "list(range(0, 20, 2))"
      ]
    },
    {
      "cell_type": "code",
      "execution_count": null,
      "metadata": {
        "colab": {
          "base_uri": "https://localhost:8080/",
          "height": 35
        },
        "id": "Fi_OJpb6t__2",
        "outputId": "fff08ec8-497d-404d-afc9-3aac379ba43f"
      },
      "outputs": [
        {
          "data": {
            "text/plain": [
              "[5, 4, 3, 2, 1]"
            ]
          },
          "execution_count": 112,
          "metadata": {
            "tags": []
          },
          "output_type": "execute_result"
        }
      ],
      "source": [
        "list(range(5, 0, -1))"
      ]
    },
    {
      "cell_type": "markdown",
      "metadata": {
        "id": "TDEtlD9iOnEd"
      },
      "source": [
        "### Exercises"
      ]
    },
    {
      "cell_type": "markdown",
      "metadata": {
        "id": "B8yUbsYZOo9y"
      },
      "source": [
        "#### Task"
      ]
    },
    {
      "cell_type": "markdown",
      "metadata": {
        "id": "f7iAMTHXOsmS"
      },
      "source": [
        "Write a function that takes a list of integers as an argument and returns the sum of all odd numbers in the list.\n"
      ]
    },
    {
      "cell_type": "code",
      "execution_count": null,
      "metadata": {
        "colab": {
          "base_uri": "https://localhost:8080/"
        },
        "id": "NdibHLF1PadB",
        "outputId": "0dda4f18-0ff5-4b6b-a11a-179de54ee8da"
      },
      "outputs": [
        {
          "data": {
            "text/plain": [
              "23"
            ]
          },
          "execution_count": 56,
          "metadata": {},
          "output_type": "execute_result"
        }
      ],
      "source": [
        "def oddNums(inputList):\n",
        "  sumOdd = 0\n",
        "  for num in inputList:\n",
        "    if num % 2 != 0:\n",
        "      # is odd\n",
        "      sumOdd += num\n",
        "  return sumOdd\n",
        "\n",
        "data = [1, 2, 3, 4, 5, 6, 7, 7, 8,]\n",
        "oddNums(data)\n"
      ]
    },
    {
      "cell_type": "markdown",
      "metadata": {
        "id": "6Z0_TEBPOqnS"
      },
      "source": [
        "#### Task"
      ]
    },
    {
      "cell_type": "markdown",
      "metadata": {
        "id": "cWePljQKPYLJ"
      },
      "source": [
        "Write a function that takes a list of strings as an argument and returns a new list with all strings that are palindromes. A palindromic string is a string that is the same when read backwards and forwards.\n",
        "\n"
      ]
    },
    {
      "cell_type": "code",
      "execution_count": null,
      "metadata": {
        "colab": {
          "base_uri": "https://localhost:8080/"
        },
        "id": "JIa90oJ7PbRa",
        "outputId": "6e234d27-f3fd-4e8f-ffa2-0708a709c4f6"
      },
      "outputs": [
        {
          "data": {
            "text/plain": [
              "['aa']"
            ]
          },
          "execution_count": 73,
          "metadata": {},
          "output_type": "execute_result"
        }
      ],
      "source": [
        "def isPalindromic(word):\n",
        "  for x in range(len(word)):\n",
        "    if word[x] != word[-x-1]:\n",
        "      return False\n",
        "  return True\n",
        "\n",
        "def palindromes(inputList):\n",
        "  palindromeList = []\n",
        "  for word in inputList:\n",
        "    if isPalindromic(word):\n",
        "      palindromeList.append(word)\n",
        "  return palindromeList\n",
        "\n",
        "data = ['aa', 'aq', 'word']\n",
        "palindromes(data)"
      ]
    },
    {
      "cell_type": "markdown",
      "metadata": {
        "id": "EImErCwOOrla"
      },
      "source": [
        "#### Task"
      ]
    },
    {
      "cell_type": "markdown",
      "metadata": {
        "id": "szB2okMGPZtp"
      },
      "source": [
        "Write a function that takes a list of integers as an argument and returns a new list with all integers that are divisible by 3."
      ]
    },
    {
      "cell_type": "code",
      "execution_count": null,
      "metadata": {
        "colab": {
          "base_uri": "https://localhost:8080/"
        },
        "id": "AgvsG052PbzA",
        "outputId": "3f3cd3be-0fff-4de8-e98b-4901b8553d91"
      },
      "outputs": [
        {
          "data": {
            "text/plain": [
              "[3, 9, 18, 6]"
            ]
          },
          "execution_count": 75,
          "metadata": {},
          "output_type": "execute_result"
        }
      ],
      "source": [
        "def divisibleBy3(inputList):\n",
        "  output = []\n",
        "  for num in inputList:\n",
        "    if num % 3 == 0:\n",
        "      # is divisible by 3\n",
        "      output.append(num)\n",
        "  return output\n",
        "\n",
        "data = [3, 9, 18, 6, 7, 8, 5, 2]\n",
        "divisibleBy3(data)"
      ]
    },
    {
      "cell_type": "markdown",
      "metadata": {
        "id": "ommGkqI7QB70"
      },
      "source": [
        "#### Task"
      ]
    },
    {
      "cell_type": "markdown",
      "metadata": {
        "id": "8-BMgHMCQECM"
      },
      "source": [
        "Write a function that takes in an integer as an input and returns a list of all numbers from 1 to the integer that are prime."
      ]
    },
    {
      "cell_type": "code",
      "execution_count": null,
      "metadata": {
        "colab": {
          "background_save": true
        },
        "id": "Y7LdGj5-QTcu",
        "outputId": "55c36e65-ec5b-41e0-af0f-8d1b70817f43"
      },
      "outputs": [
        {
          "ename": "KeyboardInterrupt",
          "evalue": "ignored",
          "output_type": "error",
          "traceback": [
            "\u001b[0;31m---------------------------------------------------------------------------\u001b[0m",
            "\u001b[0;31mKeyboardInterrupt\u001b[0m                         Traceback (most recent call last)",
            "\u001b[0;32m<ipython-input-82-1feb009367d9>\u001b[0m in \u001b[0;36m<cell line: 20>\u001b[0;34m()\u001b[0m\n\u001b[1;32m     18\u001b[0m   \u001b[0;32mreturn\u001b[0m \u001b[0moutputList\u001b[0m\u001b[0;34m\u001b[0m\u001b[0;34m\u001b[0m\u001b[0m\n\u001b[1;32m     19\u001b[0m \u001b[0;34m\u001b[0m\u001b[0m\n\u001b[0;32m---> 20\u001b[0;31m \u001b[0mgenPrimeList\u001b[0m\u001b[0;34m(\u001b[0m\u001b[0;36m99999999999\u001b[0m\u001b[0;34m)\u001b[0m\u001b[0;34m\u001b[0m\u001b[0;34m\u001b[0m\u001b[0m\n\u001b[0m",
            "\u001b[0;32m<ipython-input-82-1feb009367d9>\u001b[0m in \u001b[0;36mgenPrimeList\u001b[0;34m(inputNum)\u001b[0m\n\u001b[1;32m     14\u001b[0m   \u001b[0moutputList\u001b[0m \u001b[0;34m=\u001b[0m \u001b[0;34m[\u001b[0m\u001b[0;34m]\u001b[0m\u001b[0;34m\u001b[0m\u001b[0;34m\u001b[0m\u001b[0m\n\u001b[1;32m     15\u001b[0m   \u001b[0;32mfor\u001b[0m \u001b[0mnum\u001b[0m \u001b[0;32min\u001b[0m \u001b[0mrange\u001b[0m\u001b[0;34m(\u001b[0m\u001b[0minputNum\u001b[0m\u001b[0;34m)\u001b[0m\u001b[0;34m:\u001b[0m\u001b[0;34m\u001b[0m\u001b[0;34m\u001b[0m\u001b[0m\n\u001b[0;32m---> 16\u001b[0;31m     \u001b[0;32mif\u001b[0m \u001b[0misPrime\u001b[0m\u001b[0;34m(\u001b[0m\u001b[0mnum\u001b[0m\u001b[0;34m)\u001b[0m\u001b[0;34m:\u001b[0m\u001b[0;34m\u001b[0m\u001b[0;34m\u001b[0m\u001b[0m\n\u001b[0m\u001b[1;32m     17\u001b[0m       \u001b[0moutputList\u001b[0m\u001b[0;34m.\u001b[0m\u001b[0mappend\u001b[0m\u001b[0;34m(\u001b[0m\u001b[0mnum\u001b[0m\u001b[0;34m)\u001b[0m\u001b[0;34m\u001b[0m\u001b[0;34m\u001b[0m\u001b[0m\n\u001b[1;32m     18\u001b[0m   \u001b[0;32mreturn\u001b[0m \u001b[0moutputList\u001b[0m\u001b[0;34m\u001b[0m\u001b[0;34m\u001b[0m\u001b[0m\n",
            "\u001b[0;32m<ipython-input-82-1feb009367d9>\u001b[0m in \u001b[0;36misPrime\u001b[0;34m(number)\u001b[0m\n\u001b[1;32m      5\u001b[0m   \u001b[0;31m# try to find a divisible number\u001b[0m\u001b[0;34m\u001b[0m\u001b[0;34m\u001b[0m\u001b[0m\n\u001b[1;32m      6\u001b[0m   \u001b[0;32mfor\u001b[0m \u001b[0mi\u001b[0m \u001b[0;32min\u001b[0m \u001b[0mrange\u001b[0m\u001b[0;34m(\u001b[0m\u001b[0;36m2\u001b[0m\u001b[0;34m,\u001b[0m \u001b[0mint\u001b[0m\u001b[0;34m(\u001b[0m\u001b[0mnumber\u001b[0m\u001b[0;34m/\u001b[0m\u001b[0;36m2\u001b[0m\u001b[0;34m)\u001b[0m \u001b[0;34m+\u001b[0m \u001b[0;36m1\u001b[0m\u001b[0;34m)\u001b[0m\u001b[0;34m:\u001b[0m\u001b[0;34m\u001b[0m\u001b[0;34m\u001b[0m\u001b[0m\n\u001b[0;32m----> 7\u001b[0;31m     \u001b[0;32mif\u001b[0m \u001b[0mnumber\u001b[0m \u001b[0;34m%\u001b[0m \u001b[0mi\u001b[0m \u001b[0;34m==\u001b[0m \u001b[0;36m0\u001b[0m\u001b[0;34m:\u001b[0m\u001b[0;34m\u001b[0m\u001b[0;34m\u001b[0m\u001b[0m\n\u001b[0m\u001b[1;32m      8\u001b[0m       \u001b[0;31m# not prime\u001b[0m\u001b[0;34m\u001b[0m\u001b[0;34m\u001b[0m\u001b[0m\n\u001b[1;32m      9\u001b[0m       \u001b[0;32mreturn\u001b[0m \u001b[0;32mFalse\u001b[0m\u001b[0;34m\u001b[0m\u001b[0;34m\u001b[0m\u001b[0m\n",
            "\u001b[0;31mKeyboardInterrupt\u001b[0m: "
          ]
        }
      ],
      "source": [
        "def isPrime(number):\n",
        "  if number < 1:\n",
        "    return False\n",
        "\n",
        "  # try to find a divisible number\n",
        "  for i in range(2, int(number/2) + 1):\n",
        "    if number % i == 0:\n",
        "      # not prime\n",
        "      return False\n",
        "  # is Prime\n",
        "  return True\n",
        "\n",
        "def genPrimeList(inputNum):\n",
        "  outputList = []\n",
        "  for num in range(inputNum):\n",
        "    if isPrime(num):\n",
        "      outputList.append(num)\n",
        "  return outputList\n",
        "\n",
        "genPrimeList(99999999999)"
      ]
    },
    {
      "cell_type": "markdown",
      "metadata": {
        "id": "nHW7uVDFEcGd"
      },
      "source": [
        "## List Comprehension"
      ]
    },
    {
      "cell_type": "markdown",
      "metadata": {
        "id": "ysQvbkHhElk7"
      },
      "source": [
        "List comprehension is very useful as it allows us to easily create a new list from another."
      ]
    },
    {
      "cell_type": "markdown",
      "metadata": {
        "id": "L_gsR72o4w6r"
      },
      "source": [
        "### What is List Comprehension?\n",
        "\n",
        "List comprehension is a concise way to create lists in Python. It offers a shorter syntax when you want to create a new list based on the values of an existing list or iterable. List comprehensions are more compact and faster than traditional for loops for generating lists.\n",
        "\n",
        "### Syntax:\n",
        "\n",
        "The general syntax of list comprehension in Python is:\n",
        "\n",
        "```python\n",
        "[expression for item in iterable if condition]\n",
        "```\n",
        "\n",
        "- `expression` is the current item in the iteration, but it is also the outcome, which you can manipulate before it ends up in the new list.\n",
        "- `item` is the variable used for each element in the `iterable`.\n",
        "- `condition` is like a filter that only accepts the items that evaluate as `True`.\n",
        "\n"
      ]
    },
    {
      "cell_type": "code",
      "execution_count": null,
      "metadata": {
        "id": "5ZxztuDVFvCl"
      },
      "outputs": [],
      "source": [
        "a_list = [1,2,3,4,5,6]"
      ]
    },
    {
      "cell_type": "markdown",
      "metadata": {
        "id": "aD5M0_aKF3Vv"
      },
      "source": [
        "Let's suppose we want to create a new list which contains the square of all the numbers above."
      ]
    },
    {
      "cell_type": "code",
      "execution_count": null,
      "metadata": {
        "id": "5AJaME0lGAAC"
      },
      "outputs": [],
      "source": [
        "b_list = [ x**2 for x in a_list]"
      ]
    },
    {
      "cell_type": "code",
      "execution_count": null,
      "metadata": {
        "colab": {
          "base_uri": "https://localhost:8080/"
        },
        "id": "UiUvKJUYbPkQ",
        "outputId": "3f77aa1c-97c2-4506-b8da-ab67a21d6fe5"
      },
      "outputs": [
        {
          "data": {
            "text/plain": [
              "[1, 4, 9, 16, 25, 36]"
            ]
          },
          "execution_count": 133,
          "metadata": {},
          "output_type": "execute_result"
        }
      ],
      "source": [
        "b_list"
      ]
    },
    {
      "cell_type": "markdown",
      "metadata": {
        "id": "b4QvjiagE1XV"
      },
      "source": [
        "Let's just try to extract only the even numbers."
      ]
    },
    {
      "cell_type": "code",
      "execution_count": null,
      "metadata": {
        "colab": {
          "base_uri": "https://localhost:8080/"
        },
        "id": "u13n4MsOFuhc",
        "outputId": "4235630b-86bb-4037-878f-ccc251798e7d"
      },
      "outputs": [
        {
          "data": {
            "text/plain": [
              "[2, 4, 6]"
            ]
          },
          "execution_count": 135,
          "metadata": {},
          "output_type": "execute_result"
        }
      ],
      "source": [
        "c_list = [x for x in a_list if x % 2 == 0]\n",
        "\n",
        "c_list"
      ]
    },
    {
      "cell_type": "markdown",
      "metadata": {
        "id": "AiNIDtPjGxnA"
      },
      "source": [
        "More list comprehension"
      ]
    },
    {
      "cell_type": "code",
      "execution_count": null,
      "metadata": {
        "colab": {
          "base_uri": "https://localhost:8080/"
        },
        "id": "b4P2C1EpEa9Y",
        "outputId": "868007d3-aedb-455d-af11-3ba2de45c1f8"
      },
      "outputs": [
        {
          "data": {
            "text/plain": [
              "[0, 1, 2, 3, 0, 2, 4, 6, 0, 3, 6, 9, 0, 4, 8, 12, 0, 5, 10, 15, 0, 6, 12, 18]"
            ]
          },
          "execution_count": 136,
          "metadata": {},
          "output_type": "execute_result"
        }
      ],
      "source": [
        "d_list = [x*y for x in a_list for y in range(4)]\n",
        "\n",
        "d_list"
      ]
    },
    {
      "cell_type": "markdown",
      "metadata": {
        "id": "frwC9q72462G"
      },
      "source": [
        "\n",
        "### Why is List Comprehension useful in Python?\n",
        "\n",
        "1. **Conciseness**: List comprehensions provide a more syntactically elegant and readable way to generate lists, reducing the need for multiple lines of code.\n",
        "\n",
        "2. **Performance**: They are often faster than equivalent `for` loops because they are optimized in the Python interpreter.\n",
        "\n",
        "3. **Immutability**: Since a new list is generated, the original list or iterable remains unmodified.\n",
        "\n",
        "4. **Flexibility**: You can use list comprehensions with any iterable, not just lists. This includes strings, tuples, and other data structures.\n",
        "\n",
        "5. **Nested Loops**: List comprehensions can also mimic nested loops. For example, `[(x, y) for x in [1,2,3] for y in [3,1,4] if x != y]` produces a list of combinations of `x` and `y` where `x` and `y` are not equal.\n",
        "\n",
        "6. **Readability**: For those familiar with the syntax, list comprehensions can make code more readable by clearly expressing the transformation being applied to each element.\n",
        "\n",
        "However, it's worth noting that while list comprehensions are powerful, they can become less readable when overused or when used for very complex operations. In such cases, traditional loops might be a better choice for the sake of clarity."
      ]
    },
    {
      "cell_type": "markdown",
      "metadata": {
        "id": "m7LCS38rHDdk"
      },
      "source": [
        "### Comprhension more generally"
      ]
    },
    {
      "cell_type": "code",
      "execution_count": null,
      "metadata": {
        "colab": {
          "base_uri": "https://localhost:8080/"
        },
        "id": "Ljqg3zZOH3sb",
        "outputId": "a622bda0-0a1a-49f0-faf1-4877747c1f09"
      },
      "outputs": [
        {
          "data": {
            "text/plain": [
              "{1: 1, 2: 4, 3: 9, 4: 16, 5: 25, 6: 36}"
            ]
          },
          "execution_count": 137,
          "metadata": {},
          "output_type": "execute_result"
        }
      ],
      "source": [
        "square_dic = {x : x**2 for x in a_list }\n",
        "\n",
        "square_dic"
      ]
    },
    {
      "cell_type": "code",
      "execution_count": null,
      "metadata": {
        "colab": {
          "base_uri": "https://localhost:8080/"
        },
        "id": "08mZEN2XFI3b",
        "outputId": "ab1259d3-a438-45f8-c8ec-b6dd7149e843"
      },
      "outputs": [
        {
          "data": {
            "text/plain": [
              "{'Key1': 2, 'Key2': 4, 'Key3': 6, 'Key4': 8, 'Key5': 10, 'Key6': 12}"
            ]
          },
          "execution_count": 138,
          "metadata": {},
          "output_type": "execute_result"
        }
      ],
      "source": [
        "new_dic = {'Key' + str(x) : 2*x for x in a_list }\n",
        "\n",
        "new_dic"
      ]
    },
    {
      "cell_type": "code",
      "execution_count": null,
      "metadata": {
        "colab": {
          "base_uri": "https://localhost:8080/"
        },
        "id": "9ixD56YO5Qat",
        "outputId": "b8002e21-b0fd-4f01-d55d-11cf62a7f10a"
      },
      "outputs": [
        {
          "data": {
            "text/plain": [
              "['a', 'm', 'a', 'z', 'i', 'n', 'g']"
            ]
          },
          "execution_count": 3,
          "metadata": {},
          "output_type": "execute_result"
        }
      ],
      "source": [
        "letters_in_word = [letter for letter in 'amazing']\n",
        "\n",
        "letters_in_word"
      ]
    }
  ],
  "metadata": {
    "colab": {
      "collapsed_sections": [
        "8jB6ANp-cqc3",
        "2g_H2BCtc56M"
      ],
      "provenance": [],
      "toc_visible": true,
      "include_colab_link": true
    },
    "kernelspec": {
      "display_name": "Python 3",
      "language": "python",
      "name": "python3"
    },
    "language_info": {
      "codemirror_mode": {
        "name": "ipython",
        "version": 3
      },
      "file_extension": ".py",
      "mimetype": "text/x-python",
      "name": "python",
      "nbconvert_exporter": "python",
      "pygments_lexer": "ipython3",
      "version": "3.5.1"
    }
  },
  "nbformat": 4,
  "nbformat_minor": 0
}